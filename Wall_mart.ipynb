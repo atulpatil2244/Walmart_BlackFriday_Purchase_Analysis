{
  "nbformat": 4,
  "nbformat_minor": 0,
  "metadata": {
    "colab": {
      "provenance": [],
      "collapsed_sections": [
        "6WWcn6TUVFqf"
      ]
    },
    "kernelspec": {
      "name": "python3",
      "display_name": "Python 3"
    },
    "language_info": {
      "name": "python"
    }
  },
  "cells": [
    {
      "cell_type": "markdown",
      "source": [
        "# Let,s Import the required libraries."
      ],
      "metadata": {
        "id": "pzEn4sNYLmoc"
      }
    },
    {
      "cell_type": "code",
      "source": [
        "import numpy as np\n",
        "import pandas as pd\n",
        "import matplotlib.pyplot as plt\n",
        "import seaborn as sns\n",
        "import statsmodels\n",
        "from scipy.special import comb\n",
        "from scipy.stats import binom\n",
        "from scipy.stats import norm\n",
        "from scipy.stats import poisson, expon , geom\n",
        "from matplotlib.pyplot import figure"
      ],
      "metadata": {
        "id": "MMmqnEwBaw2v"
      },
      "execution_count": null,
      "outputs": []
    },
    {
      "cell_type": "markdown",
      "source": [
        "# Problem_Statement"
      ],
      "metadata": {
        "id": "1ff9x8pjahv0"
      }
    },
    {
      "cell_type": "markdown",
      "source": [
        "###The Management team at Walmart Inc. wants to analyze the customer purchase behavior (specifically, purchase amount) against the customer’s gender and the various other factors to help the business make better decisions. They want to understand if the spending habits differ between male and female customers: Do women spend more on Black Friday than men? (Assume 50 million customers are male and 50 million are female)."
      ],
      "metadata": {
        "id": "cqTVTIeaHQW3"
      }
    },
    {
      "cell_type": "markdown",
      "source": [
        "## Importing Wallmart DataSet"
      ],
      "metadata": {
        "id": "rjRFr9YYL2b8"
      }
    },
    {
      "cell_type": "code",
      "execution_count": null,
      "metadata": {
        "colab": {
          "base_uri": "https://localhost:8080/"
        },
        "id": "gfMnR7tOaibV",
        "outputId": "d74ab3df-0a4f-4c49-d0a1-9b30d68328e1"
      },
      "outputs": [
        {
          "output_type": "stream",
          "name": "stdout",
          "text": [
            "Downloading...\n",
            "From: https://d2beiqkhq929f0.cloudfront.net/public_assets/assets/000/001/293/original/walmart_data.csv\n",
            "To: /content/walmart_data.csv\n",
            "\r  0% 0.00/23.0M [00:00<?, ?B/s]\r 39% 8.91M/23.0M [00:00<00:00, 86.1MB/s]\r100% 23.0M/23.0M [00:00<00:00, 114MB/s] \n"
          ]
        }
      ],
      "source": [
        "!gdown https://d2beiqkhq929f0.cloudfront.net/public_assets/assets/000/001/293/original/walmart_data.csv"
      ]
    },
    {
      "cell_type": "code",
      "source": [
        "df=pd.read_csv('/content/walmart_data.csv')"
      ],
      "metadata": {
        "id": "1IbnPhW9auPw"
      },
      "execution_count": null,
      "outputs": []
    },
    {
      "cell_type": "code",
      "source": [
        "df.head()"
      ],
      "metadata": {
        "colab": {
          "base_uri": "https://localhost:8080/",
          "height": 206
        },
        "id": "vJsnqqbnb3hF",
        "outputId": "dc812862-c93c-42ff-e87d-279a7a56bbad"
      },
      "execution_count": null,
      "outputs": [
        {
          "output_type": "execute_result",
          "data": {
            "text/plain": [
              "   User_ID Product_ID Gender   Age  Occupation City_Category  \\\n",
              "0  1000001  P00069042      F  0-17          10             A   \n",
              "1  1000001  P00248942      F  0-17          10             A   \n",
              "2  1000001  P00087842      F  0-17          10             A   \n",
              "3  1000001  P00085442      F  0-17          10             A   \n",
              "4  1000002  P00285442      M   55+          16             C   \n",
              "\n",
              "  Stay_In_Current_City_Years  Marital_Status  Product_Category  Purchase  \n",
              "0                          2               0                 3      8370  \n",
              "1                          2               0                 1     15200  \n",
              "2                          2               0                12      1422  \n",
              "3                          2               0                12      1057  \n",
              "4                         4+               0                 8      7969  "
            ],
            "text/html": [
              "\n",
              "  <div id=\"df-89d9c43c-d607-4eed-9daa-41fb689bc573\">\n",
              "    <div class=\"colab-df-container\">\n",
              "      <div>\n",
              "<style scoped>\n",
              "    .dataframe tbody tr th:only-of-type {\n",
              "        vertical-align: middle;\n",
              "    }\n",
              "\n",
              "    .dataframe tbody tr th {\n",
              "        vertical-align: top;\n",
              "    }\n",
              "\n",
              "    .dataframe thead th {\n",
              "        text-align: right;\n",
              "    }\n",
              "</style>\n",
              "<table border=\"1\" class=\"dataframe\">\n",
              "  <thead>\n",
              "    <tr style=\"text-align: right;\">\n",
              "      <th></th>\n",
              "      <th>User_ID</th>\n",
              "      <th>Product_ID</th>\n",
              "      <th>Gender</th>\n",
              "      <th>Age</th>\n",
              "      <th>Occupation</th>\n",
              "      <th>City_Category</th>\n",
              "      <th>Stay_In_Current_City_Years</th>\n",
              "      <th>Marital_Status</th>\n",
              "      <th>Product_Category</th>\n",
              "      <th>Purchase</th>\n",
              "    </tr>\n",
              "  </thead>\n",
              "  <tbody>\n",
              "    <tr>\n",
              "      <th>0</th>\n",
              "      <td>1000001</td>\n",
              "      <td>P00069042</td>\n",
              "      <td>F</td>\n",
              "      <td>0-17</td>\n",
              "      <td>10</td>\n",
              "      <td>A</td>\n",
              "      <td>2</td>\n",
              "      <td>0</td>\n",
              "      <td>3</td>\n",
              "      <td>8370</td>\n",
              "    </tr>\n",
              "    <tr>\n",
              "      <th>1</th>\n",
              "      <td>1000001</td>\n",
              "      <td>P00248942</td>\n",
              "      <td>F</td>\n",
              "      <td>0-17</td>\n",
              "      <td>10</td>\n",
              "      <td>A</td>\n",
              "      <td>2</td>\n",
              "      <td>0</td>\n",
              "      <td>1</td>\n",
              "      <td>15200</td>\n",
              "    </tr>\n",
              "    <tr>\n",
              "      <th>2</th>\n",
              "      <td>1000001</td>\n",
              "      <td>P00087842</td>\n",
              "      <td>F</td>\n",
              "      <td>0-17</td>\n",
              "      <td>10</td>\n",
              "      <td>A</td>\n",
              "      <td>2</td>\n",
              "      <td>0</td>\n",
              "      <td>12</td>\n",
              "      <td>1422</td>\n",
              "    </tr>\n",
              "    <tr>\n",
              "      <th>3</th>\n",
              "      <td>1000001</td>\n",
              "      <td>P00085442</td>\n",
              "      <td>F</td>\n",
              "      <td>0-17</td>\n",
              "      <td>10</td>\n",
              "      <td>A</td>\n",
              "      <td>2</td>\n",
              "      <td>0</td>\n",
              "      <td>12</td>\n",
              "      <td>1057</td>\n",
              "    </tr>\n",
              "    <tr>\n",
              "      <th>4</th>\n",
              "      <td>1000002</td>\n",
              "      <td>P00285442</td>\n",
              "      <td>M</td>\n",
              "      <td>55+</td>\n",
              "      <td>16</td>\n",
              "      <td>C</td>\n",
              "      <td>4+</td>\n",
              "      <td>0</td>\n",
              "      <td>8</td>\n",
              "      <td>7969</td>\n",
              "    </tr>\n",
              "  </tbody>\n",
              "</table>\n",
              "</div>\n",
              "      <button class=\"colab-df-convert\" onclick=\"convertToInteractive('df-89d9c43c-d607-4eed-9daa-41fb689bc573')\"\n",
              "              title=\"Convert this dataframe to an interactive table.\"\n",
              "              style=\"display:none;\">\n",
              "        \n",
              "  <svg xmlns=\"http://www.w3.org/2000/svg\" height=\"24px\"viewBox=\"0 0 24 24\"\n",
              "       width=\"24px\">\n",
              "    <path d=\"M0 0h24v24H0V0z\" fill=\"none\"/>\n",
              "    <path d=\"M18.56 5.44l.94 2.06.94-2.06 2.06-.94-2.06-.94-.94-2.06-.94 2.06-2.06.94zm-11 1L8.5 8.5l.94-2.06 2.06-.94-2.06-.94L8.5 2.5l-.94 2.06-2.06.94zm10 10l.94 2.06.94-2.06 2.06-.94-2.06-.94-.94-2.06-.94 2.06-2.06.94z\"/><path d=\"M17.41 7.96l-1.37-1.37c-.4-.4-.92-.59-1.43-.59-.52 0-1.04.2-1.43.59L10.3 9.45l-7.72 7.72c-.78.78-.78 2.05 0 2.83L4 21.41c.39.39.9.59 1.41.59.51 0 1.02-.2 1.41-.59l7.78-7.78 2.81-2.81c.8-.78.8-2.07 0-2.86zM5.41 20L4 18.59l7.72-7.72 1.47 1.35L5.41 20z\"/>\n",
              "  </svg>\n",
              "      </button>\n",
              "      \n",
              "  <style>\n",
              "    .colab-df-container {\n",
              "      display:flex;\n",
              "      flex-wrap:wrap;\n",
              "      gap: 12px;\n",
              "    }\n",
              "\n",
              "    .colab-df-convert {\n",
              "      background-color: #E8F0FE;\n",
              "      border: none;\n",
              "      border-radius: 50%;\n",
              "      cursor: pointer;\n",
              "      display: none;\n",
              "      fill: #1967D2;\n",
              "      height: 32px;\n",
              "      padding: 0 0 0 0;\n",
              "      width: 32px;\n",
              "    }\n",
              "\n",
              "    .colab-df-convert:hover {\n",
              "      background-color: #E2EBFA;\n",
              "      box-shadow: 0px 1px 2px rgba(60, 64, 67, 0.3), 0px 1px 3px 1px rgba(60, 64, 67, 0.15);\n",
              "      fill: #174EA6;\n",
              "    }\n",
              "\n",
              "    [theme=dark] .colab-df-convert {\n",
              "      background-color: #3B4455;\n",
              "      fill: #D2E3FC;\n",
              "    }\n",
              "\n",
              "    [theme=dark] .colab-df-convert:hover {\n",
              "      background-color: #434B5C;\n",
              "      box-shadow: 0px 1px 3px 1px rgba(0, 0, 0, 0.15);\n",
              "      filter: drop-shadow(0px 1px 2px rgba(0, 0, 0, 0.3));\n",
              "      fill: #FFFFFF;\n",
              "    }\n",
              "  </style>\n",
              "\n",
              "      <script>\n",
              "        const buttonEl =\n",
              "          document.querySelector('#df-89d9c43c-d607-4eed-9daa-41fb689bc573 button.colab-df-convert');\n",
              "        buttonEl.style.display =\n",
              "          google.colab.kernel.accessAllowed ? 'block' : 'none';\n",
              "\n",
              "        async function convertToInteractive(key) {\n",
              "          const element = document.querySelector('#df-89d9c43c-d607-4eed-9daa-41fb689bc573');\n",
              "          const dataTable =\n",
              "            await google.colab.kernel.invokeFunction('convertToInteractive',\n",
              "                                                     [key], {});\n",
              "          if (!dataTable) return;\n",
              "\n",
              "          const docLinkHtml = 'Like what you see? Visit the ' +\n",
              "            '<a target=\"_blank\" href=https://colab.research.google.com/notebooks/data_table.ipynb>data table notebook</a>'\n",
              "            + ' to learn more about interactive tables.';\n",
              "          element.innerHTML = '';\n",
              "          dataTable['output_type'] = 'display_data';\n",
              "          await google.colab.output.renderOutput(dataTable, element);\n",
              "          const docLink = document.createElement('div');\n",
              "          docLink.innerHTML = docLinkHtml;\n",
              "          element.appendChild(docLink);\n",
              "        }\n",
              "      </script>\n",
              "    </div>\n",
              "  </div>\n",
              "  "
            ]
          },
          "metadata": {},
          "execution_count": 4
        }
      ]
    },
    {
      "cell_type": "code",
      "source": [
        "df.info()"
      ],
      "metadata": {
        "colab": {
          "base_uri": "https://localhost:8080/"
        },
        "id": "ExU3veLwcGKU",
        "outputId": "702801cb-9111-404c-e7a4-d7a13e242a61"
      },
      "execution_count": null,
      "outputs": [
        {
          "output_type": "stream",
          "name": "stdout",
          "text": [
            "<class 'pandas.core.frame.DataFrame'>\n",
            "RangeIndex: 550068 entries, 0 to 550067\n",
            "Data columns (total 10 columns):\n",
            " #   Column                      Non-Null Count   Dtype \n",
            "---  ------                      --------------   ----- \n",
            " 0   User_ID                     550068 non-null  int64 \n",
            " 1   Product_ID                  550068 non-null  object\n",
            " 2   Gender                      550068 non-null  object\n",
            " 3   Age                         550068 non-null  object\n",
            " 4   Occupation                  550068 non-null  int64 \n",
            " 5   City_Category               550068 non-null  object\n",
            " 6   Stay_In_Current_City_Years  550068 non-null  object\n",
            " 7   Marital_Status              550068 non-null  int64 \n",
            " 8   Product_Category            550068 non-null  int64 \n",
            " 9   Purchase                    550068 non-null  int64 \n",
            "dtypes: int64(5), object(5)\n",
            "memory usage: 42.0+ MB\n"
          ]
        }
      ]
    },
    {
      "cell_type": "code",
      "source": [
        "df.describe()"
      ],
      "metadata": {
        "colab": {
          "base_uri": "https://localhost:8080/",
          "height": 300
        },
        "id": "RPMrfpU5cNbh",
        "outputId": "48a1de71-ca0f-4d1a-df9f-7ba228851b32"
      },
      "execution_count": null,
      "outputs": [
        {
          "output_type": "execute_result",
          "data": {
            "text/plain": [
              "            User_ID     Occupation  Marital_Status  Product_Category  \\\n",
              "count  5.500680e+05  550068.000000   550068.000000     550068.000000   \n",
              "mean   1.003029e+06       8.076707        0.409653          5.404270   \n",
              "std    1.727592e+03       6.522660        0.491770          3.936211   \n",
              "min    1.000001e+06       0.000000        0.000000          1.000000   \n",
              "25%    1.001516e+06       2.000000        0.000000          1.000000   \n",
              "50%    1.003077e+06       7.000000        0.000000          5.000000   \n",
              "75%    1.004478e+06      14.000000        1.000000          8.000000   \n",
              "max    1.006040e+06      20.000000        1.000000         20.000000   \n",
              "\n",
              "            Purchase  \n",
              "count  550068.000000  \n",
              "mean     9263.968713  \n",
              "std      5023.065394  \n",
              "min        12.000000  \n",
              "25%      5823.000000  \n",
              "50%      8047.000000  \n",
              "75%     12054.000000  \n",
              "max     23961.000000  "
            ],
            "text/html": [
              "\n",
              "  <div id=\"df-642a93de-9c9b-4af0-a3e3-46b7094c5a55\">\n",
              "    <div class=\"colab-df-container\">\n",
              "      <div>\n",
              "<style scoped>\n",
              "    .dataframe tbody tr th:only-of-type {\n",
              "        vertical-align: middle;\n",
              "    }\n",
              "\n",
              "    .dataframe tbody tr th {\n",
              "        vertical-align: top;\n",
              "    }\n",
              "\n",
              "    .dataframe thead th {\n",
              "        text-align: right;\n",
              "    }\n",
              "</style>\n",
              "<table border=\"1\" class=\"dataframe\">\n",
              "  <thead>\n",
              "    <tr style=\"text-align: right;\">\n",
              "      <th></th>\n",
              "      <th>User_ID</th>\n",
              "      <th>Occupation</th>\n",
              "      <th>Marital_Status</th>\n",
              "      <th>Product_Category</th>\n",
              "      <th>Purchase</th>\n",
              "    </tr>\n",
              "  </thead>\n",
              "  <tbody>\n",
              "    <tr>\n",
              "      <th>count</th>\n",
              "      <td>5.500680e+05</td>\n",
              "      <td>550068.000000</td>\n",
              "      <td>550068.000000</td>\n",
              "      <td>550068.000000</td>\n",
              "      <td>550068.000000</td>\n",
              "    </tr>\n",
              "    <tr>\n",
              "      <th>mean</th>\n",
              "      <td>1.003029e+06</td>\n",
              "      <td>8.076707</td>\n",
              "      <td>0.409653</td>\n",
              "      <td>5.404270</td>\n",
              "      <td>9263.968713</td>\n",
              "    </tr>\n",
              "    <tr>\n",
              "      <th>std</th>\n",
              "      <td>1.727592e+03</td>\n",
              "      <td>6.522660</td>\n",
              "      <td>0.491770</td>\n",
              "      <td>3.936211</td>\n",
              "      <td>5023.065394</td>\n",
              "    </tr>\n",
              "    <tr>\n",
              "      <th>min</th>\n",
              "      <td>1.000001e+06</td>\n",
              "      <td>0.000000</td>\n",
              "      <td>0.000000</td>\n",
              "      <td>1.000000</td>\n",
              "      <td>12.000000</td>\n",
              "    </tr>\n",
              "    <tr>\n",
              "      <th>25%</th>\n",
              "      <td>1.001516e+06</td>\n",
              "      <td>2.000000</td>\n",
              "      <td>0.000000</td>\n",
              "      <td>1.000000</td>\n",
              "      <td>5823.000000</td>\n",
              "    </tr>\n",
              "    <tr>\n",
              "      <th>50%</th>\n",
              "      <td>1.003077e+06</td>\n",
              "      <td>7.000000</td>\n",
              "      <td>0.000000</td>\n",
              "      <td>5.000000</td>\n",
              "      <td>8047.000000</td>\n",
              "    </tr>\n",
              "    <tr>\n",
              "      <th>75%</th>\n",
              "      <td>1.004478e+06</td>\n",
              "      <td>14.000000</td>\n",
              "      <td>1.000000</td>\n",
              "      <td>8.000000</td>\n",
              "      <td>12054.000000</td>\n",
              "    </tr>\n",
              "    <tr>\n",
              "      <th>max</th>\n",
              "      <td>1.006040e+06</td>\n",
              "      <td>20.000000</td>\n",
              "      <td>1.000000</td>\n",
              "      <td>20.000000</td>\n",
              "      <td>23961.000000</td>\n",
              "    </tr>\n",
              "  </tbody>\n",
              "</table>\n",
              "</div>\n",
              "      <button class=\"colab-df-convert\" onclick=\"convertToInteractive('df-642a93de-9c9b-4af0-a3e3-46b7094c5a55')\"\n",
              "              title=\"Convert this dataframe to an interactive table.\"\n",
              "              style=\"display:none;\">\n",
              "        \n",
              "  <svg xmlns=\"http://www.w3.org/2000/svg\" height=\"24px\"viewBox=\"0 0 24 24\"\n",
              "       width=\"24px\">\n",
              "    <path d=\"M0 0h24v24H0V0z\" fill=\"none\"/>\n",
              "    <path d=\"M18.56 5.44l.94 2.06.94-2.06 2.06-.94-2.06-.94-.94-2.06-.94 2.06-2.06.94zm-11 1L8.5 8.5l.94-2.06 2.06-.94-2.06-.94L8.5 2.5l-.94 2.06-2.06.94zm10 10l.94 2.06.94-2.06 2.06-.94-2.06-.94-.94-2.06-.94 2.06-2.06.94z\"/><path d=\"M17.41 7.96l-1.37-1.37c-.4-.4-.92-.59-1.43-.59-.52 0-1.04.2-1.43.59L10.3 9.45l-7.72 7.72c-.78.78-.78 2.05 0 2.83L4 21.41c.39.39.9.59 1.41.59.51 0 1.02-.2 1.41-.59l7.78-7.78 2.81-2.81c.8-.78.8-2.07 0-2.86zM5.41 20L4 18.59l7.72-7.72 1.47 1.35L5.41 20z\"/>\n",
              "  </svg>\n",
              "      </button>\n",
              "      \n",
              "  <style>\n",
              "    .colab-df-container {\n",
              "      display:flex;\n",
              "      flex-wrap:wrap;\n",
              "      gap: 12px;\n",
              "    }\n",
              "\n",
              "    .colab-df-convert {\n",
              "      background-color: #E8F0FE;\n",
              "      border: none;\n",
              "      border-radius: 50%;\n",
              "      cursor: pointer;\n",
              "      display: none;\n",
              "      fill: #1967D2;\n",
              "      height: 32px;\n",
              "      padding: 0 0 0 0;\n",
              "      width: 32px;\n",
              "    }\n",
              "\n",
              "    .colab-df-convert:hover {\n",
              "      background-color: #E2EBFA;\n",
              "      box-shadow: 0px 1px 2px rgba(60, 64, 67, 0.3), 0px 1px 3px 1px rgba(60, 64, 67, 0.15);\n",
              "      fill: #174EA6;\n",
              "    }\n",
              "\n",
              "    [theme=dark] .colab-df-convert {\n",
              "      background-color: #3B4455;\n",
              "      fill: #D2E3FC;\n",
              "    }\n",
              "\n",
              "    [theme=dark] .colab-df-convert:hover {\n",
              "      background-color: #434B5C;\n",
              "      box-shadow: 0px 1px 3px 1px rgba(0, 0, 0, 0.15);\n",
              "      filter: drop-shadow(0px 1px 2px rgba(0, 0, 0, 0.3));\n",
              "      fill: #FFFFFF;\n",
              "    }\n",
              "  </style>\n",
              "\n",
              "      <script>\n",
              "        const buttonEl =\n",
              "          document.querySelector('#df-642a93de-9c9b-4af0-a3e3-46b7094c5a55 button.colab-df-convert');\n",
              "        buttonEl.style.display =\n",
              "          google.colab.kernel.accessAllowed ? 'block' : 'none';\n",
              "\n",
              "        async function convertToInteractive(key) {\n",
              "          const element = document.querySelector('#df-642a93de-9c9b-4af0-a3e3-46b7094c5a55');\n",
              "          const dataTable =\n",
              "            await google.colab.kernel.invokeFunction('convertToInteractive',\n",
              "                                                     [key], {});\n",
              "          if (!dataTable) return;\n",
              "\n",
              "          const docLinkHtml = 'Like what you see? Visit the ' +\n",
              "            '<a target=\"_blank\" href=https://colab.research.google.com/notebooks/data_table.ipynb>data table notebook</a>'\n",
              "            + ' to learn more about interactive tables.';\n",
              "          element.innerHTML = '';\n",
              "          dataTable['output_type'] = 'display_data';\n",
              "          await google.colab.output.renderOutput(dataTable, element);\n",
              "          const docLink = document.createElement('div');\n",
              "          docLink.innerHTML = docLinkHtml;\n",
              "          element.appendChild(docLink);\n",
              "        }\n",
              "      </script>\n",
              "    </div>\n",
              "  </div>\n",
              "  "
            ]
          },
          "metadata": {},
          "execution_count": 7
        }
      ]
    },
    {
      "cell_type": "code",
      "source": [
        "df.describe(include=object).T"
      ],
      "metadata": {
        "id": "70N5fnRucjUO",
        "colab": {
          "base_uri": "https://localhost:8080/",
          "height": 206
        },
        "outputId": "32a49d09-4b55-4e4c-a45f-b2d97fc8fcdd"
      },
      "execution_count": null,
      "outputs": [
        {
          "output_type": "execute_result",
          "data": {
            "text/plain": [
              "                             count unique        top    freq\n",
              "Product_ID                  550068   3631  P00265242    1880\n",
              "Gender                      550068      2          M  414259\n",
              "Age                         550068      7      26-35  219587\n",
              "City_Category               550068      3          B  231173\n",
              "Stay_In_Current_City_Years  550068      5          1  193821"
            ],
            "text/html": [
              "\n",
              "  <div id=\"df-bfa1a5d2-909f-4e05-b136-8cd9a9d48d11\">\n",
              "    <div class=\"colab-df-container\">\n",
              "      <div>\n",
              "<style scoped>\n",
              "    .dataframe tbody tr th:only-of-type {\n",
              "        vertical-align: middle;\n",
              "    }\n",
              "\n",
              "    .dataframe tbody tr th {\n",
              "        vertical-align: top;\n",
              "    }\n",
              "\n",
              "    .dataframe thead th {\n",
              "        text-align: right;\n",
              "    }\n",
              "</style>\n",
              "<table border=\"1\" class=\"dataframe\">\n",
              "  <thead>\n",
              "    <tr style=\"text-align: right;\">\n",
              "      <th></th>\n",
              "      <th>count</th>\n",
              "      <th>unique</th>\n",
              "      <th>top</th>\n",
              "      <th>freq</th>\n",
              "    </tr>\n",
              "  </thead>\n",
              "  <tbody>\n",
              "    <tr>\n",
              "      <th>Product_ID</th>\n",
              "      <td>550068</td>\n",
              "      <td>3631</td>\n",
              "      <td>P00265242</td>\n",
              "      <td>1880</td>\n",
              "    </tr>\n",
              "    <tr>\n",
              "      <th>Gender</th>\n",
              "      <td>550068</td>\n",
              "      <td>2</td>\n",
              "      <td>M</td>\n",
              "      <td>414259</td>\n",
              "    </tr>\n",
              "    <tr>\n",
              "      <th>Age</th>\n",
              "      <td>550068</td>\n",
              "      <td>7</td>\n",
              "      <td>26-35</td>\n",
              "      <td>219587</td>\n",
              "    </tr>\n",
              "    <tr>\n",
              "      <th>City_Category</th>\n",
              "      <td>550068</td>\n",
              "      <td>3</td>\n",
              "      <td>B</td>\n",
              "      <td>231173</td>\n",
              "    </tr>\n",
              "    <tr>\n",
              "      <th>Stay_In_Current_City_Years</th>\n",
              "      <td>550068</td>\n",
              "      <td>5</td>\n",
              "      <td>1</td>\n",
              "      <td>193821</td>\n",
              "    </tr>\n",
              "  </tbody>\n",
              "</table>\n",
              "</div>\n",
              "      <button class=\"colab-df-convert\" onclick=\"convertToInteractive('df-bfa1a5d2-909f-4e05-b136-8cd9a9d48d11')\"\n",
              "              title=\"Convert this dataframe to an interactive table.\"\n",
              "              style=\"display:none;\">\n",
              "        \n",
              "  <svg xmlns=\"http://www.w3.org/2000/svg\" height=\"24px\"viewBox=\"0 0 24 24\"\n",
              "       width=\"24px\">\n",
              "    <path d=\"M0 0h24v24H0V0z\" fill=\"none\"/>\n",
              "    <path d=\"M18.56 5.44l.94 2.06.94-2.06 2.06-.94-2.06-.94-.94-2.06-.94 2.06-2.06.94zm-11 1L8.5 8.5l.94-2.06 2.06-.94-2.06-.94L8.5 2.5l-.94 2.06-2.06.94zm10 10l.94 2.06.94-2.06 2.06-.94-2.06-.94-.94-2.06-.94 2.06-2.06.94z\"/><path d=\"M17.41 7.96l-1.37-1.37c-.4-.4-.92-.59-1.43-.59-.52 0-1.04.2-1.43.59L10.3 9.45l-7.72 7.72c-.78.78-.78 2.05 0 2.83L4 21.41c.39.39.9.59 1.41.59.51 0 1.02-.2 1.41-.59l7.78-7.78 2.81-2.81c.8-.78.8-2.07 0-2.86zM5.41 20L4 18.59l7.72-7.72 1.47 1.35L5.41 20z\"/>\n",
              "  </svg>\n",
              "      </button>\n",
              "      \n",
              "  <style>\n",
              "    .colab-df-container {\n",
              "      display:flex;\n",
              "      flex-wrap:wrap;\n",
              "      gap: 12px;\n",
              "    }\n",
              "\n",
              "    .colab-df-convert {\n",
              "      background-color: #E8F0FE;\n",
              "      border: none;\n",
              "      border-radius: 50%;\n",
              "      cursor: pointer;\n",
              "      display: none;\n",
              "      fill: #1967D2;\n",
              "      height: 32px;\n",
              "      padding: 0 0 0 0;\n",
              "      width: 32px;\n",
              "    }\n",
              "\n",
              "    .colab-df-convert:hover {\n",
              "      background-color: #E2EBFA;\n",
              "      box-shadow: 0px 1px 2px rgba(60, 64, 67, 0.3), 0px 1px 3px 1px rgba(60, 64, 67, 0.15);\n",
              "      fill: #174EA6;\n",
              "    }\n",
              "\n",
              "    [theme=dark] .colab-df-convert {\n",
              "      background-color: #3B4455;\n",
              "      fill: #D2E3FC;\n",
              "    }\n",
              "\n",
              "    [theme=dark] .colab-df-convert:hover {\n",
              "      background-color: #434B5C;\n",
              "      box-shadow: 0px 1px 3px 1px rgba(0, 0, 0, 0.15);\n",
              "      filter: drop-shadow(0px 1px 2px rgba(0, 0, 0, 0.3));\n",
              "      fill: #FFFFFF;\n",
              "    }\n",
              "  </style>\n",
              "\n",
              "      <script>\n",
              "        const buttonEl =\n",
              "          document.querySelector('#df-bfa1a5d2-909f-4e05-b136-8cd9a9d48d11 button.colab-df-convert');\n",
              "        buttonEl.style.display =\n",
              "          google.colab.kernel.accessAllowed ? 'block' : 'none';\n",
              "\n",
              "        async function convertToInteractive(key) {\n",
              "          const element = document.querySelector('#df-bfa1a5d2-909f-4e05-b136-8cd9a9d48d11');\n",
              "          const dataTable =\n",
              "            await google.colab.kernel.invokeFunction('convertToInteractive',\n",
              "                                                     [key], {});\n",
              "          if (!dataTable) return;\n",
              "\n",
              "          const docLinkHtml = 'Like what you see? Visit the ' +\n",
              "            '<a target=\"_blank\" href=https://colab.research.google.com/notebooks/data_table.ipynb>data table notebook</a>'\n",
              "            + ' to learn more about interactive tables.';\n",
              "          element.innerHTML = '';\n",
              "          dataTable['output_type'] = 'display_data';\n",
              "          await google.colab.output.renderOutput(dataTable, element);\n",
              "          const docLink = document.createElement('div');\n",
              "          docLink.innerHTML = docLinkHtml;\n",
              "          element.appendChild(docLink);\n",
              "        }\n",
              "      </script>\n",
              "    </div>\n",
              "  </div>\n",
              "  "
            ]
          },
          "metadata": {},
          "execution_count": 8
        }
      ]
    },
    {
      "cell_type": "code",
      "source": [
        "# Length of Data\n",
        "len(df)"
      ],
      "metadata": {
        "colab": {
          "base_uri": "https://localhost:8080/"
        },
        "id": "ayVfGgnRMRdR",
        "outputId": "51c4d3d5-45cb-4927-a2bc-94da5626ad11"
      },
      "execution_count": null,
      "outputs": [
        {
          "output_type": "execute_result",
          "data": {
            "text/plain": [
              "550068"
            ]
          },
          "metadata": {},
          "execution_count": 9
        }
      ]
    },
    {
      "cell_type": "code",
      "source": [
        "# Number of rows and columns\n",
        "df.shape"
      ],
      "metadata": {
        "colab": {
          "base_uri": "https://localhost:8080/"
        },
        "id": "THhBFKv33HiI",
        "outputId": "367b0919-7b41-4c2a-de24-0683ba67c5e9"
      },
      "execution_count": null,
      "outputs": [
        {
          "output_type": "execute_result",
          "data": {
            "text/plain": [
              "(550068, 10)"
            ]
          },
          "metadata": {},
          "execution_count": 10
        }
      ]
    },
    {
      "cell_type": "code",
      "source": [
        "# Checking Datatypes\n",
        "df.dtypes"
      ],
      "metadata": {
        "colab": {
          "base_uri": "https://localhost:8080/"
        },
        "id": "HUnJ32TeQ0EK",
        "outputId": "e657fa14-8780-42fb-fb57-42225564c52d"
      },
      "execution_count": null,
      "outputs": [
        {
          "output_type": "execute_result",
          "data": {
            "text/plain": [
              "User_ID                        int64\n",
              "Product_ID                    object\n",
              "Gender                        object\n",
              "Age                           object\n",
              "Occupation                     int64\n",
              "City_Category                 object\n",
              "Stay_In_Current_City_Years    object\n",
              "Marital_Status                 int64\n",
              "Product_Category               int64\n",
              "Purchase                       int64\n",
              "dtype: object"
            ]
          },
          "metadata": {},
          "execution_count": 11
        }
      ]
    },
    {
      "cell_type": "code",
      "source": [
        "# Number of Uniques in all Columns\n",
        "df.nunique()"
      ],
      "metadata": {
        "colab": {
          "base_uri": "https://localhost:8080/"
        },
        "id": "m0YdXGhqSQqA",
        "outputId": "bf41c215-bbaf-4ee9-d665-fa610a3614cb"
      },
      "execution_count": null,
      "outputs": [
        {
          "output_type": "execute_result",
          "data": {
            "text/plain": [
              "User_ID                        5891\n",
              "Product_ID                     3631\n",
              "Gender                            2\n",
              "Age                               7\n",
              "Occupation                       21\n",
              "City_Category                     3\n",
              "Stay_In_Current_City_Years        5\n",
              "Marital_Status                    2\n",
              "Product_Category                 20\n",
              "Purchase                      18105\n",
              "dtype: int64"
            ]
          },
          "metadata": {},
          "execution_count": 12
        }
      ]
    },
    {
      "cell_type": "code",
      "source": [
        "# Checking for Null values in data\n",
        "df.isna().sum()\n"
      ],
      "metadata": {
        "colab": {
          "base_uri": "https://localhost:8080/"
        },
        "id": "dZt4A1IWU27s",
        "outputId": "7307942f-0cfc-4393-f065-671db62dd251"
      },
      "execution_count": null,
      "outputs": [
        {
          "output_type": "execute_result",
          "data": {
            "text/plain": [
              "User_ID                       0\n",
              "Product_ID                    0\n",
              "Gender                        0\n",
              "Age                           0\n",
              "Occupation                    0\n",
              "City_Category                 0\n",
              "Stay_In_Current_City_Years    0\n",
              "Marital_Status                0\n",
              "Product_Category              0\n",
              "Purchase                      0\n",
              "dtype: int64"
            ]
          },
          "metadata": {},
          "execution_count": 13
        }
      ]
    },
    {
      "cell_type": "markdown",
      "source": [
        "### No **null** values present data"
      ],
      "metadata": {
        "id": "6WWcn6TUVFqf"
      }
    },
    {
      "cell_type": "markdown",
      "source": [
        "## Lets convert Marital Status Column into 'Single' and 'Unmarried'."
      ],
      "metadata": {
        "id": "e48rY4YqGL7C"
      }
    },
    {
      "cell_type": "code",
      "source": [
        "df['Marital_Status']=df['Marital_Status'].map({0:'Single',1:'Married'})"
      ],
      "metadata": {
        "id": "Ot4vhqyYGo3P"
      },
      "execution_count": null,
      "outputs": []
    },
    {
      "cell_type": "code",
      "source": [
        "df.head(5)"
      ],
      "metadata": {
        "colab": {
          "base_uri": "https://localhost:8080/",
          "height": 206
        },
        "id": "foO9VvVZISej",
        "outputId": "cb7b18fe-6987-4f24-a494-c5a83a3d3495"
      },
      "execution_count": null,
      "outputs": [
        {
          "output_type": "execute_result",
          "data": {
            "text/plain": [
              "   User_ID Product_ID Gender   Age  Occupation City_Category  \\\n",
              "0  1000001  P00069042      F  0-17          10             A   \n",
              "1  1000001  P00248942      F  0-17          10             A   \n",
              "2  1000001  P00087842      F  0-17          10             A   \n",
              "3  1000001  P00085442      F  0-17          10             A   \n",
              "4  1000002  P00285442      M   55+          16             C   \n",
              "\n",
              "  Stay_In_Current_City_Years Marital_Status  Product_Category  Purchase  \n",
              "0                          2         Single                 3      8370  \n",
              "1                          2         Single                 1     15200  \n",
              "2                          2         Single                12      1422  \n",
              "3                          2         Single                12      1057  \n",
              "4                         4+         Single                 8      7969  "
            ],
            "text/html": [
              "\n",
              "  <div id=\"df-46971645-b60b-4b57-a224-98ece63047ca\">\n",
              "    <div class=\"colab-df-container\">\n",
              "      <div>\n",
              "<style scoped>\n",
              "    .dataframe tbody tr th:only-of-type {\n",
              "        vertical-align: middle;\n",
              "    }\n",
              "\n",
              "    .dataframe tbody tr th {\n",
              "        vertical-align: top;\n",
              "    }\n",
              "\n",
              "    .dataframe thead th {\n",
              "        text-align: right;\n",
              "    }\n",
              "</style>\n",
              "<table border=\"1\" class=\"dataframe\">\n",
              "  <thead>\n",
              "    <tr style=\"text-align: right;\">\n",
              "      <th></th>\n",
              "      <th>User_ID</th>\n",
              "      <th>Product_ID</th>\n",
              "      <th>Gender</th>\n",
              "      <th>Age</th>\n",
              "      <th>Occupation</th>\n",
              "      <th>City_Category</th>\n",
              "      <th>Stay_In_Current_City_Years</th>\n",
              "      <th>Marital_Status</th>\n",
              "      <th>Product_Category</th>\n",
              "      <th>Purchase</th>\n",
              "    </tr>\n",
              "  </thead>\n",
              "  <tbody>\n",
              "    <tr>\n",
              "      <th>0</th>\n",
              "      <td>1000001</td>\n",
              "      <td>P00069042</td>\n",
              "      <td>F</td>\n",
              "      <td>0-17</td>\n",
              "      <td>10</td>\n",
              "      <td>A</td>\n",
              "      <td>2</td>\n",
              "      <td>Single</td>\n",
              "      <td>3</td>\n",
              "      <td>8370</td>\n",
              "    </tr>\n",
              "    <tr>\n",
              "      <th>1</th>\n",
              "      <td>1000001</td>\n",
              "      <td>P00248942</td>\n",
              "      <td>F</td>\n",
              "      <td>0-17</td>\n",
              "      <td>10</td>\n",
              "      <td>A</td>\n",
              "      <td>2</td>\n",
              "      <td>Single</td>\n",
              "      <td>1</td>\n",
              "      <td>15200</td>\n",
              "    </tr>\n",
              "    <tr>\n",
              "      <th>2</th>\n",
              "      <td>1000001</td>\n",
              "      <td>P00087842</td>\n",
              "      <td>F</td>\n",
              "      <td>0-17</td>\n",
              "      <td>10</td>\n",
              "      <td>A</td>\n",
              "      <td>2</td>\n",
              "      <td>Single</td>\n",
              "      <td>12</td>\n",
              "      <td>1422</td>\n",
              "    </tr>\n",
              "    <tr>\n",
              "      <th>3</th>\n",
              "      <td>1000001</td>\n",
              "      <td>P00085442</td>\n",
              "      <td>F</td>\n",
              "      <td>0-17</td>\n",
              "      <td>10</td>\n",
              "      <td>A</td>\n",
              "      <td>2</td>\n",
              "      <td>Single</td>\n",
              "      <td>12</td>\n",
              "      <td>1057</td>\n",
              "    </tr>\n",
              "    <tr>\n",
              "      <th>4</th>\n",
              "      <td>1000002</td>\n",
              "      <td>P00285442</td>\n",
              "      <td>M</td>\n",
              "      <td>55+</td>\n",
              "      <td>16</td>\n",
              "      <td>C</td>\n",
              "      <td>4+</td>\n",
              "      <td>Single</td>\n",
              "      <td>8</td>\n",
              "      <td>7969</td>\n",
              "    </tr>\n",
              "  </tbody>\n",
              "</table>\n",
              "</div>\n",
              "      <button class=\"colab-df-convert\" onclick=\"convertToInteractive('df-46971645-b60b-4b57-a224-98ece63047ca')\"\n",
              "              title=\"Convert this dataframe to an interactive table.\"\n",
              "              style=\"display:none;\">\n",
              "        \n",
              "  <svg xmlns=\"http://www.w3.org/2000/svg\" height=\"24px\"viewBox=\"0 0 24 24\"\n",
              "       width=\"24px\">\n",
              "    <path d=\"M0 0h24v24H0V0z\" fill=\"none\"/>\n",
              "    <path d=\"M18.56 5.44l.94 2.06.94-2.06 2.06-.94-2.06-.94-.94-2.06-.94 2.06-2.06.94zm-11 1L8.5 8.5l.94-2.06 2.06-.94-2.06-.94L8.5 2.5l-.94 2.06-2.06.94zm10 10l.94 2.06.94-2.06 2.06-.94-2.06-.94-.94-2.06-.94 2.06-2.06.94z\"/><path d=\"M17.41 7.96l-1.37-1.37c-.4-.4-.92-.59-1.43-.59-.52 0-1.04.2-1.43.59L10.3 9.45l-7.72 7.72c-.78.78-.78 2.05 0 2.83L4 21.41c.39.39.9.59 1.41.59.51 0 1.02-.2 1.41-.59l7.78-7.78 2.81-2.81c.8-.78.8-2.07 0-2.86zM5.41 20L4 18.59l7.72-7.72 1.47 1.35L5.41 20z\"/>\n",
              "  </svg>\n",
              "      </button>\n",
              "      \n",
              "  <style>\n",
              "    .colab-df-container {\n",
              "      display:flex;\n",
              "      flex-wrap:wrap;\n",
              "      gap: 12px;\n",
              "    }\n",
              "\n",
              "    .colab-df-convert {\n",
              "      background-color: #E8F0FE;\n",
              "      border: none;\n",
              "      border-radius: 50%;\n",
              "      cursor: pointer;\n",
              "      display: none;\n",
              "      fill: #1967D2;\n",
              "      height: 32px;\n",
              "      padding: 0 0 0 0;\n",
              "      width: 32px;\n",
              "    }\n",
              "\n",
              "    .colab-df-convert:hover {\n",
              "      background-color: #E2EBFA;\n",
              "      box-shadow: 0px 1px 2px rgba(60, 64, 67, 0.3), 0px 1px 3px 1px rgba(60, 64, 67, 0.15);\n",
              "      fill: #174EA6;\n",
              "    }\n",
              "\n",
              "    [theme=dark] .colab-df-convert {\n",
              "      background-color: #3B4455;\n",
              "      fill: #D2E3FC;\n",
              "    }\n",
              "\n",
              "    [theme=dark] .colab-df-convert:hover {\n",
              "      background-color: #434B5C;\n",
              "      box-shadow: 0px 1px 3px 1px rgba(0, 0, 0, 0.15);\n",
              "      filter: drop-shadow(0px 1px 2px rgba(0, 0, 0, 0.3));\n",
              "      fill: #FFFFFF;\n",
              "    }\n",
              "  </style>\n",
              "\n",
              "      <script>\n",
              "        const buttonEl =\n",
              "          document.querySelector('#df-46971645-b60b-4b57-a224-98ece63047ca button.colab-df-convert');\n",
              "        buttonEl.style.display =\n",
              "          google.colab.kernel.accessAllowed ? 'block' : 'none';\n",
              "\n",
              "        async function convertToInteractive(key) {\n",
              "          const element = document.querySelector('#df-46971645-b60b-4b57-a224-98ece63047ca');\n",
              "          const dataTable =\n",
              "            await google.colab.kernel.invokeFunction('convertToInteractive',\n",
              "                                                     [key], {});\n",
              "          if (!dataTable) return;\n",
              "\n",
              "          const docLinkHtml = 'Like what you see? Visit the ' +\n",
              "            '<a target=\"_blank\" href=https://colab.research.google.com/notebooks/data_table.ipynb>data table notebook</a>'\n",
              "            + ' to learn more about interactive tables.';\n",
              "          element.innerHTML = '';\n",
              "          dataTable['output_type'] = 'display_data';\n",
              "          await google.colab.output.renderOutput(dataTable, element);\n",
              "          const docLink = document.createElement('div');\n",
              "          docLink.innerHTML = docLinkHtml;\n",
              "          element.appendChild(docLink);\n",
              "        }\n",
              "      </script>\n",
              "    </div>\n",
              "  </div>\n",
              "  "
            ]
          },
          "metadata": {},
          "execution_count": 15
        }
      ]
    },
    {
      "cell_type": "markdown",
      "source": [
        "## Checking of---> Avg purchase of Males and Females on basis of different age group"
      ],
      "metadata": {
        "id": "3GCTAcHcI7xV"
      }
    },
    {
      "cell_type": "code",
      "source": [
        "Purchase_Age_Vs_Gender=df.groupby(['Gender','Age'])['Purchase'].mean().unstack()\n",
        "Purchase_Age_Vs_Gender=round(Purchase_Age_Vs_Gender,2)\n",
        "Purchase_Age_Vs_Gender"
      ],
      "metadata": {
        "colab": {
          "base_uri": "https://localhost:8080/",
          "height": 143
        },
        "id": "segqUHeKVP1L",
        "outputId": "140aa2ff-53d1-44a1-8a59-4dcc8ff5a581"
      },
      "execution_count": null,
      "outputs": [
        {
          "output_type": "execute_result",
          "data": {
            "text/plain": [
              "Age        0-17    18-25    26-35    36-45    46-50    51-55      55+\n",
              "Gender                                                               \n",
              "F       8338.77  8343.18  8728.25  8959.84  8842.10  9042.45  9007.04\n",
              "M       9235.17  9440.94  9410.34  9453.19  9357.47  9705.09  9438.20"
            ],
            "text/html": [
              "\n",
              "  <div id=\"df-296294a2-0adf-40e7-8c1a-c58ccc91d137\">\n",
              "    <div class=\"colab-df-container\">\n",
              "      <div>\n",
              "<style scoped>\n",
              "    .dataframe tbody tr th:only-of-type {\n",
              "        vertical-align: middle;\n",
              "    }\n",
              "\n",
              "    .dataframe tbody tr th {\n",
              "        vertical-align: top;\n",
              "    }\n",
              "\n",
              "    .dataframe thead th {\n",
              "        text-align: right;\n",
              "    }\n",
              "</style>\n",
              "<table border=\"1\" class=\"dataframe\">\n",
              "  <thead>\n",
              "    <tr style=\"text-align: right;\">\n",
              "      <th>Age</th>\n",
              "      <th>0-17</th>\n",
              "      <th>18-25</th>\n",
              "      <th>26-35</th>\n",
              "      <th>36-45</th>\n",
              "      <th>46-50</th>\n",
              "      <th>51-55</th>\n",
              "      <th>55+</th>\n",
              "    </tr>\n",
              "    <tr>\n",
              "      <th>Gender</th>\n",
              "      <th></th>\n",
              "      <th></th>\n",
              "      <th></th>\n",
              "      <th></th>\n",
              "      <th></th>\n",
              "      <th></th>\n",
              "      <th></th>\n",
              "    </tr>\n",
              "  </thead>\n",
              "  <tbody>\n",
              "    <tr>\n",
              "      <th>F</th>\n",
              "      <td>8338.77</td>\n",
              "      <td>8343.18</td>\n",
              "      <td>8728.25</td>\n",
              "      <td>8959.84</td>\n",
              "      <td>8842.10</td>\n",
              "      <td>9042.45</td>\n",
              "      <td>9007.04</td>\n",
              "    </tr>\n",
              "    <tr>\n",
              "      <th>M</th>\n",
              "      <td>9235.17</td>\n",
              "      <td>9440.94</td>\n",
              "      <td>9410.34</td>\n",
              "      <td>9453.19</td>\n",
              "      <td>9357.47</td>\n",
              "      <td>9705.09</td>\n",
              "      <td>9438.20</td>\n",
              "    </tr>\n",
              "  </tbody>\n",
              "</table>\n",
              "</div>\n",
              "      <button class=\"colab-df-convert\" onclick=\"convertToInteractive('df-296294a2-0adf-40e7-8c1a-c58ccc91d137')\"\n",
              "              title=\"Convert this dataframe to an interactive table.\"\n",
              "              style=\"display:none;\">\n",
              "        \n",
              "  <svg xmlns=\"http://www.w3.org/2000/svg\" height=\"24px\"viewBox=\"0 0 24 24\"\n",
              "       width=\"24px\">\n",
              "    <path d=\"M0 0h24v24H0V0z\" fill=\"none\"/>\n",
              "    <path d=\"M18.56 5.44l.94 2.06.94-2.06 2.06-.94-2.06-.94-.94-2.06-.94 2.06-2.06.94zm-11 1L8.5 8.5l.94-2.06 2.06-.94-2.06-.94L8.5 2.5l-.94 2.06-2.06.94zm10 10l.94 2.06.94-2.06 2.06-.94-2.06-.94-.94-2.06-.94 2.06-2.06.94z\"/><path d=\"M17.41 7.96l-1.37-1.37c-.4-.4-.92-.59-1.43-.59-.52 0-1.04.2-1.43.59L10.3 9.45l-7.72 7.72c-.78.78-.78 2.05 0 2.83L4 21.41c.39.39.9.59 1.41.59.51 0 1.02-.2 1.41-.59l7.78-7.78 2.81-2.81c.8-.78.8-2.07 0-2.86zM5.41 20L4 18.59l7.72-7.72 1.47 1.35L5.41 20z\"/>\n",
              "  </svg>\n",
              "      </button>\n",
              "      \n",
              "  <style>\n",
              "    .colab-df-container {\n",
              "      display:flex;\n",
              "      flex-wrap:wrap;\n",
              "      gap: 12px;\n",
              "    }\n",
              "\n",
              "    .colab-df-convert {\n",
              "      background-color: #E8F0FE;\n",
              "      border: none;\n",
              "      border-radius: 50%;\n",
              "      cursor: pointer;\n",
              "      display: none;\n",
              "      fill: #1967D2;\n",
              "      height: 32px;\n",
              "      padding: 0 0 0 0;\n",
              "      width: 32px;\n",
              "    }\n",
              "\n",
              "    .colab-df-convert:hover {\n",
              "      background-color: #E2EBFA;\n",
              "      box-shadow: 0px 1px 2px rgba(60, 64, 67, 0.3), 0px 1px 3px 1px rgba(60, 64, 67, 0.15);\n",
              "      fill: #174EA6;\n",
              "    }\n",
              "\n",
              "    [theme=dark] .colab-df-convert {\n",
              "      background-color: #3B4455;\n",
              "      fill: #D2E3FC;\n",
              "    }\n",
              "\n",
              "    [theme=dark] .colab-df-convert:hover {\n",
              "      background-color: #434B5C;\n",
              "      box-shadow: 0px 1px 3px 1px rgba(0, 0, 0, 0.15);\n",
              "      filter: drop-shadow(0px 1px 2px rgba(0, 0, 0, 0.3));\n",
              "      fill: #FFFFFF;\n",
              "    }\n",
              "  </style>\n",
              "\n",
              "      <script>\n",
              "        const buttonEl =\n",
              "          document.querySelector('#df-296294a2-0adf-40e7-8c1a-c58ccc91d137 button.colab-df-convert');\n",
              "        buttonEl.style.display =\n",
              "          google.colab.kernel.accessAllowed ? 'block' : 'none';\n",
              "\n",
              "        async function convertToInteractive(key) {\n",
              "          const element = document.querySelector('#df-296294a2-0adf-40e7-8c1a-c58ccc91d137');\n",
              "          const dataTable =\n",
              "            await google.colab.kernel.invokeFunction('convertToInteractive',\n",
              "                                                     [key], {});\n",
              "          if (!dataTable) return;\n",
              "\n",
              "          const docLinkHtml = 'Like what you see? Visit the ' +\n",
              "            '<a target=\"_blank\" href=https://colab.research.google.com/notebooks/data_table.ipynb>data table notebook</a>'\n",
              "            + ' to learn more about interactive tables.';\n",
              "          element.innerHTML = '';\n",
              "          dataTable['output_type'] = 'display_data';\n",
              "          await google.colab.output.renderOutput(dataTable, element);\n",
              "          const docLink = document.createElement('div');\n",
              "          docLink.innerHTML = docLinkHtml;\n",
              "          element.appendChild(docLink);\n",
              "        }\n",
              "      </script>\n",
              "    </div>\n",
              "  </div>\n",
              "  "
            ]
          },
          "metadata": {},
          "execution_count": 18
        }
      ]
    },
    {
      "cell_type": "markdown",
      "source": [
        "## Purchasing based on Different Age groups and Marital Status"
      ],
      "metadata": {
        "id": "hzB0a7FRKNpA"
      }
    },
    {
      "cell_type": "code",
      "source": [
        "Purchase_Age_Vs_Gender=df.groupby(['Marital_Status','Age'])['Purchase'].mean()\n",
        "Purchase_Age_Vs_Gender=round(Purchase_Age_Vs_Gender,2)\n",
        "Purchase_Age_Vs_Gender=pd.DataFrame(Purchase_Age_Vs_Gender)"
      ],
      "metadata": {
        "id": "wo-EqONoDWHW"
      },
      "execution_count": null,
      "outputs": []
    },
    {
      "cell_type": "code",
      "source": [
        "Purchase_Age_Vs_Gender=Purchase_Age_Vs_Gender.reset_index()"
      ],
      "metadata": {
        "id": "ZYkfNJDwn4hH"
      },
      "execution_count": null,
      "outputs": []
    },
    {
      "cell_type": "code",
      "source": [
        "Purchase_Age_Vs_Gender"
      ],
      "metadata": {
        "id": "U5V7cPPcoN6i"
      },
      "execution_count": null,
      "outputs": []
    },
    {
      "cell_type": "code",
      "source": [
        "sns.barplot(data=Purchase_Age_Vs_Gender,x=Purchase_Age_Vs_Gender['Age'],y=Purchase_Age_Vs_Gender['Purchase'],hue=Purchase_Age_Vs_Gender['Marital_Status'])"
      ],
      "metadata": {
        "colab": {
          "base_uri": "https://localhost:8080/",
          "height": 300
        },
        "id": "e5q3cZvll5gf",
        "outputId": "3e0796f7-565e-45fc-f2bf-105c1fbaac8b"
      },
      "execution_count": null,
      "outputs": [
        {
          "output_type": "execute_result",
          "data": {
            "text/plain": [
              "<Axes: xlabel='Age', ylabel='Purchase'>"
            ]
          },
          "metadata": {},
          "execution_count": 32
        },
        {
          "output_type": "display_data",
          "data": {
            "text/plain": [
              "<Figure size 432x288 with 1 Axes>"
            ],
            "image/png": "[encoded data removed]"
          },
          "metadata": {
            "needs_background": "light"
          }
        }
      ]
    },
    {
      "cell_type": "markdown",
      "source": [
        "## Purchasing on Basis of Stay_In_Current_City_Years, City_Category"
      ],
      "metadata": {
        "id": "iOLy51QKtr8K"
      }
    },
    {
      "cell_type": "code",
      "source": [
        "Purchase_Cities=df.groupby(['City_Category','Stay_In_Current_City_Years'])['Purchase'].mean().unstack()\n",
        "Purchase_Cities=round(Purchase_Cities,2)\n",
        "Purchase_Cities"
      ],
      "metadata": {
        "colab": {
          "base_uri": "https://localhost:8080/",
          "height": 175
        },
        "id": "OkSdyFDhtrZA",
        "outputId": "d7a43764-1697-480e-cc6d-f544a583bf71"
      },
      "execution_count": null,
      "outputs": [
        {
          "output_type": "execute_result",
          "data": {
            "text/plain": [
              "Stay_In_Current_City_Years        0        1        2        3       4+\n",
              "City_Category                                                          \n",
              "A                           8986.59  8878.65  8970.43  8915.04  8830.11\n",
              "B                           8902.62  9178.99  9193.01  9189.99  9192.62\n",
              "C                           9766.97  9647.04  9769.95  9767.69  9736.61"
            ],
            "text/html": [
              "\n",
              "  <div id=\"df-79daeb9e-98e3-41b6-90dc-9da5ba2b589a\">\n",
              "    <div class=\"colab-df-container\">\n",
              "      <div>\n",
              "<style scoped>\n",
              "    .dataframe tbody tr th:only-of-type {\n",
              "        vertical-align: middle;\n",
              "    }\n",
              "\n",
              "    .dataframe tbody tr th {\n",
              "        vertical-align: top;\n",
              "    }\n",
              "\n",
              "    .dataframe thead th {\n",
              "        text-align: right;\n",
              "    }\n",
              "</style>\n",
              "<table border=\"1\" class=\"dataframe\">\n",
              "  <thead>\n",
              "    <tr style=\"text-align: right;\">\n",
              "      <th>Stay_In_Current_City_Years</th>\n",
              "      <th>0</th>\n",
              "      <th>1</th>\n",
              "      <th>2</th>\n",
              "      <th>3</th>\n",
              "      <th>4+</th>\n",
              "    </tr>\n",
              "    <tr>\n",
              "      <th>City_Category</th>\n",
              "      <th></th>\n",
              "      <th></th>\n",
              "      <th></th>\n",
              "      <th></th>\n",
              "      <th></th>\n",
              "    </tr>\n",
              "  </thead>\n",
              "  <tbody>\n",
              "    <tr>\n",
              "      <th>A</th>\n",
              "      <td>8986.59</td>\n",
              "      <td>8878.65</td>\n",
              "      <td>8970.43</td>\n",
              "      <td>8915.04</td>\n",
              "      <td>8830.11</td>\n",
              "    </tr>\n",
              "    <tr>\n",
              "      <th>B</th>\n",
              "      <td>8902.62</td>\n",
              "      <td>9178.99</td>\n",
              "      <td>9193.01</td>\n",
              "      <td>9189.99</td>\n",
              "      <td>9192.62</td>\n",
              "    </tr>\n",
              "    <tr>\n",
              "      <th>C</th>\n",
              "      <td>9766.97</td>\n",
              "      <td>9647.04</td>\n",
              "      <td>9769.95</td>\n",
              "      <td>9767.69</td>\n",
              "      <td>9736.61</td>\n",
              "    </tr>\n",
              "  </tbody>\n",
              "</table>\n",
              "</div>\n",
              "      <button class=\"colab-df-convert\" onclick=\"convertToInteractive('df-79daeb9e-98e3-41b6-90dc-9da5ba2b589a')\"\n",
              "              title=\"Convert this dataframe to an interactive table.\"\n",
              "              style=\"display:none;\">\n",
              "        \n",
              "  <svg xmlns=\"http://www.w3.org/2000/svg\" height=\"24px\"viewBox=\"0 0 24 24\"\n",
              "       width=\"24px\">\n",
              "    <path d=\"M0 0h24v24H0V0z\" fill=\"none\"/>\n",
              "    <path d=\"M18.56 5.44l.94 2.06.94-2.06 2.06-.94-2.06-.94-.94-2.06-.94 2.06-2.06.94zm-11 1L8.5 8.5l.94-2.06 2.06-.94-2.06-.94L8.5 2.5l-.94 2.06-2.06.94zm10 10l.94 2.06.94-2.06 2.06-.94-2.06-.94-.94-2.06-.94 2.06-2.06.94z\"/><path d=\"M17.41 7.96l-1.37-1.37c-.4-.4-.92-.59-1.43-.59-.52 0-1.04.2-1.43.59L10.3 9.45l-7.72 7.72c-.78.78-.78 2.05 0 2.83L4 21.41c.39.39.9.59 1.41.59.51 0 1.02-.2 1.41-.59l7.78-7.78 2.81-2.81c.8-.78.8-2.07 0-2.86zM5.41 20L4 18.59l7.72-7.72 1.47 1.35L5.41 20z\"/>\n",
              "  </svg>\n",
              "      </button>\n",
              "      \n",
              "  <style>\n",
              "    .colab-df-container {\n",
              "      display:flex;\n",
              "      flex-wrap:wrap;\n",
              "      gap: 12px;\n",
              "    }\n",
              "\n",
              "    .colab-df-convert {\n",
              "      background-color: #E8F0FE;\n",
              "      border: none;\n",
              "      border-radius: 50%;\n",
              "      cursor: pointer;\n",
              "      display: none;\n",
              "      fill: #1967D2;\n",
              "      height: 32px;\n",
              "      padding: 0 0 0 0;\n",
              "      width: 32px;\n",
              "    }\n",
              "\n",
              "    .colab-df-convert:hover {\n",
              "      background-color: #E2EBFA;\n",
              "      box-shadow: 0px 1px 2px rgba(60, 64, 67, 0.3), 0px 1px 3px 1px rgba(60, 64, 67, 0.15);\n",
              "      fill: #174EA6;\n",
              "    }\n",
              "\n",
              "    [theme=dark] .colab-df-convert {\n",
              "      background-color: #3B4455;\n",
              "      fill: #D2E3FC;\n",
              "    }\n",
              "\n",
              "    [theme=dark] .colab-df-convert:hover {\n",
              "      background-color: #434B5C;\n",
              "      box-shadow: 0px 1px 3px 1px rgba(0, 0, 0, 0.15);\n",
              "      filter: drop-shadow(0px 1px 2px rgba(0, 0, 0, 0.3));\n",
              "      fill: #FFFFFF;\n",
              "    }\n",
              "  </style>\n",
              "\n",
              "      <script>\n",
              "        const buttonEl =\n",
              "          document.querySelector('#df-79daeb9e-98e3-41b6-90dc-9da5ba2b589a button.colab-df-convert');\n",
              "        buttonEl.style.display =\n",
              "          google.colab.kernel.accessAllowed ? 'block' : 'none';\n",
              "\n",
              "        async function convertToInteractive(key) {\n",
              "          const element = document.querySelector('#df-79daeb9e-98e3-41b6-90dc-9da5ba2b589a');\n",
              "          const dataTable =\n",
              "            await google.colab.kernel.invokeFunction('convertToInteractive',\n",
              "                                                     [key], {});\n",
              "          if (!dataTable) return;\n",
              "\n",
              "          const docLinkHtml = 'Like what you see? Visit the ' +\n",
              "            '<a target=\"_blank\" href=https://colab.research.google.com/notebooks/data_table.ipynb>data table notebook</a>'\n",
              "            + ' to learn more about interactive tables.';\n",
              "          element.innerHTML = '';\n",
              "          dataTable['output_type'] = 'display_data';\n",
              "          await google.colab.output.renderOutput(dataTable, element);\n",
              "          const docLink = document.createElement('div');\n",
              "          docLink.innerHTML = docLinkHtml;\n",
              "          element.appendChild(docLink);\n",
              "        }\n",
              "      </script>\n",
              "    </div>\n",
              "  </div>\n",
              "  "
            ]
          },
          "metadata": {},
          "execution_count": 20
        }
      ]
    },
    {
      "cell_type": "markdown",
      "source": [
        "\n",
        "*   Customers from city category C have more purchase than others.\n",
        "*   Also the customers who stays more than 4 years in city purchase more.\n",
        "*   Customers who are new to city having less purchase.\n",
        "*   Customer from B category city have moderate purchase.\n",
        "\n",
        "\n",
        "\n"
      ],
      "metadata": {
        "id": "AuMNsi8vyDLO"
      }
    },
    {
      "cell_type": "code",
      "source": [
        "Product_cat=df.groupby(['Product_Category'])['Purchase'].mean()\n",
        "Product_cat=round(Product_cat,2)\n",
        "Product_cat=pd.DataFrame(Product_cat).reset_index()"
      ],
      "metadata": {
        "id": "ushjPAf20OxO"
      },
      "execution_count": null,
      "outputs": []
    },
    {
      "cell_type": "code",
      "source": [
        "Product_cat.sort_values(by='Purchase',ascending=False,ignore_index=True)"
      ],
      "metadata": {
        "colab": {
          "base_uri": "https://localhost:8080/",
          "height": 676
        },
        "id": "kxR1jVdj67pZ",
        "outputId": "a5be5c1e-3117-4815-8b6c-bcd97cabe8b3"
      },
      "execution_count": null,
      "outputs": [
        {
          "output_type": "execute_result",
          "data": {
            "text/plain": [
              "    Product_Category  Purchase\n",
              "0                 10  19675.57\n",
              "1                  7  16365.69\n",
              "2                  6  15838.48\n",
              "3                  9  15537.38\n",
              "4                 15  14780.45\n",
              "5                 16  14766.04\n",
              "6                  1  13606.22\n",
              "7                 14  13141.63\n",
              "8                  2  11251.94\n",
              "9                 17  10170.76\n",
              "10                 3  10096.71\n",
              "11                 8   7498.96\n",
              "12                 5   6240.09\n",
              "13                11   4685.27\n",
              "14                18   2972.86\n",
              "15                 4   2329.66\n",
              "16                12   1350.86\n",
              "17                13    722.40\n",
              "18                20    370.48\n",
              "19                19     37.04"
            ],
            "text/html": [
              "\n",
              "  <div id=\"df-86eb6b38-5e36-455c-8372-bcc215e4d871\">\n",
              "    <div class=\"colab-df-container\">\n",
              "      <div>\n",
              "<style scoped>\n",
              "    .dataframe tbody tr th:only-of-type {\n",
              "        vertical-align: middle;\n",
              "    }\n",
              "\n",
              "    .dataframe tbody tr th {\n",
              "        vertical-align: top;\n",
              "    }\n",
              "\n",
              "    .dataframe thead th {\n",
              "        text-align: right;\n",
              "    }\n",
              "</style>\n",
              "<table border=\"1\" class=\"dataframe\">\n",
              "  <thead>\n",
              "    <tr style=\"text-align: right;\">\n",
              "      <th></th>\n",
              "      <th>Product_Category</th>\n",
              "      <th>Purchase</th>\n",
              "    </tr>\n",
              "  </thead>\n",
              "  <tbody>\n",
              "    <tr>\n",
              "      <th>0</th>\n",
              "      <td>10</td>\n",
              "      <td>19675.57</td>\n",
              "    </tr>\n",
              "    <tr>\n",
              "      <th>1</th>\n",
              "      <td>7</td>\n",
              "      <td>16365.69</td>\n",
              "    </tr>\n",
              "    <tr>\n",
              "      <th>2</th>\n",
              "      <td>6</td>\n",
              "      <td>15838.48</td>\n",
              "    </tr>\n",
              "    <tr>\n",
              "      <th>3</th>\n",
              "      <td>9</td>\n",
              "      <td>15537.38</td>\n",
              "    </tr>\n",
              "    <tr>\n",
              "      <th>4</th>\n",
              "      <td>15</td>\n",
              "      <td>14780.45</td>\n",
              "    </tr>\n",
              "    <tr>\n",
              "      <th>5</th>\n",
              "      <td>16</td>\n",
              "      <td>14766.04</td>\n",
              "    </tr>\n",
              "    <tr>\n",
              "      <th>6</th>\n",
              "      <td>1</td>\n",
              "      <td>13606.22</td>\n",
              "    </tr>\n",
              "    <tr>\n",
              "      <th>7</th>\n",
              "      <td>14</td>\n",
              "      <td>13141.63</td>\n",
              "    </tr>\n",
              "    <tr>\n",
              "      <th>8</th>\n",
              "      <td>2</td>\n",
              "      <td>11251.94</td>\n",
              "    </tr>\n",
              "    <tr>\n",
              "      <th>9</th>\n",
              "      <td>17</td>\n",
              "      <td>10170.76</td>\n",
              "    </tr>\n",
              "    <tr>\n",
              "      <th>10</th>\n",
              "      <td>3</td>\n",
              "      <td>10096.71</td>\n",
              "    </tr>\n",
              "    <tr>\n",
              "      <th>11</th>\n",
              "      <td>8</td>\n",
              "      <td>7498.96</td>\n",
              "    </tr>\n",
              "    <tr>\n",
              "      <th>12</th>\n",
              "      <td>5</td>\n",
              "      <td>6240.09</td>\n",
              "    </tr>\n",
              "    <tr>\n",
              "      <th>13</th>\n",
              "      <td>11</td>\n",
              "      <td>4685.27</td>\n",
              "    </tr>\n",
              "    <tr>\n",
              "      <th>14</th>\n",
              "      <td>18</td>\n",
              "      <td>2972.86</td>\n",
              "    </tr>\n",
              "    <tr>\n",
              "      <th>15</th>\n",
              "      <td>4</td>\n",
              "      <td>2329.66</td>\n",
              "    </tr>\n",
              "    <tr>\n",
              "      <th>16</th>\n",
              "      <td>12</td>\n",
              "      <td>1350.86</td>\n",
              "    </tr>\n",
              "    <tr>\n",
              "      <th>17</th>\n",
              "      <td>13</td>\n",
              "      <td>722.40</td>\n",
              "    </tr>\n",
              "    <tr>\n",
              "      <th>18</th>\n",
              "      <td>20</td>\n",
              "      <td>370.48</td>\n",
              "    </tr>\n",
              "    <tr>\n",
              "      <th>19</th>\n",
              "      <td>19</td>\n",
              "      <td>37.04</td>\n",
              "    </tr>\n",
              "  </tbody>\n",
              "</table>\n",
              "</div>\n",
              "      <button class=\"colab-df-convert\" onclick=\"convertToInteractive('df-86eb6b38-5e36-455c-8372-bcc215e4d871')\"\n",
              "              title=\"Convert this dataframe to an interactive table.\"\n",
              "              style=\"display:none;\">\n",
              "        \n",
              "  <svg xmlns=\"http://www.w3.org/2000/svg\" height=\"24px\"viewBox=\"0 0 24 24\"\n",
              "       width=\"24px\">\n",
              "    <path d=\"M0 0h24v24H0V0z\" fill=\"none\"/>\n",
              "    <path d=\"M18.56 5.44l.94 2.06.94-2.06 2.06-.94-2.06-.94-.94-2.06-.94 2.06-2.06.94zm-11 1L8.5 8.5l.94-2.06 2.06-.94-2.06-.94L8.5 2.5l-.94 2.06-2.06.94zm10 10l.94 2.06.94-2.06 2.06-.94-2.06-.94-.94-2.06-.94 2.06-2.06.94z\"/><path d=\"M17.41 7.96l-1.37-1.37c-.4-.4-.92-.59-1.43-.59-.52 0-1.04.2-1.43.59L10.3 9.45l-7.72 7.72c-.78.78-.78 2.05 0 2.83L4 21.41c.39.39.9.59 1.41.59.51 0 1.02-.2 1.41-.59l7.78-7.78 2.81-2.81c.8-.78.8-2.07 0-2.86zM5.41 20L4 18.59l7.72-7.72 1.47 1.35L5.41 20z\"/>\n",
              "  </svg>\n",
              "      </button>\n",
              "      \n",
              "  <style>\n",
              "    .colab-df-container {\n",
              "      display:flex;\n",
              "      flex-wrap:wrap;\n",
              "      gap: 12px;\n",
              "    }\n",
              "\n",
              "    .colab-df-convert {\n",
              "      background-color: #E8F0FE;\n",
              "      border: none;\n",
              "      border-radius: 50%;\n",
              "      cursor: pointer;\n",
              "      display: none;\n",
              "      fill: #1967D2;\n",
              "      height: 32px;\n",
              "      padding: 0 0 0 0;\n",
              "      width: 32px;\n",
              "    }\n",
              "\n",
              "    .colab-df-convert:hover {\n",
              "      background-color: #E2EBFA;\n",
              "      box-shadow: 0px 1px 2px rgba(60, 64, 67, 0.3), 0px 1px 3px 1px rgba(60, 64, 67, 0.15);\n",
              "      fill: #174EA6;\n",
              "    }\n",
              "\n",
              "    [theme=dark] .colab-df-convert {\n",
              "      background-color: #3B4455;\n",
              "      fill: #D2E3FC;\n",
              "    }\n",
              "\n",
              "    [theme=dark] .colab-df-convert:hover {\n",
              "      background-color: #434B5C;\n",
              "      box-shadow: 0px 1px 3px 1px rgba(0, 0, 0, 0.15);\n",
              "      filter: drop-shadow(0px 1px 2px rgba(0, 0, 0, 0.3));\n",
              "      fill: #FFFFFF;\n",
              "    }\n",
              "  </style>\n",
              "\n",
              "      <script>\n",
              "        const buttonEl =\n",
              "          document.querySelector('#df-86eb6b38-5e36-455c-8372-bcc215e4d871 button.colab-df-convert');\n",
              "        buttonEl.style.display =\n",
              "          google.colab.kernel.accessAllowed ? 'block' : 'none';\n",
              "\n",
              "        async function convertToInteractive(key) {\n",
              "          const element = document.querySelector('#df-86eb6b38-5e36-455c-8372-bcc215e4d871');\n",
              "          const dataTable =\n",
              "            await google.colab.kernel.invokeFunction('convertToInteractive',\n",
              "                                                     [key], {});\n",
              "          if (!dataTable) return;\n",
              "\n",
              "          const docLinkHtml = 'Like what you see? Visit the ' +\n",
              "            '<a target=\"_blank\" href=https://colab.research.google.com/notebooks/data_table.ipynb>data table notebook</a>'\n",
              "            + ' to learn more about interactive tables.';\n",
              "          element.innerHTML = '';\n",
              "          dataTable['output_type'] = 'display_data';\n",
              "          await google.colab.output.renderOutput(dataTable, element);\n",
              "          const docLink = document.createElement('div');\n",
              "          docLink.innerHTML = docLinkHtml;\n",
              "          element.appendChild(docLink);\n",
              "        }\n",
              "      </script>\n",
              "    </div>\n",
              "  </div>\n",
              "  "
            ]
          },
          "metadata": {},
          "execution_count": 15
        }
      ]
    },
    {
      "cell_type": "code",
      "source": [
        "sns.barplot(data=Product_cat,x='Product_Category',y='Purchase')"
      ],
      "metadata": {
        "colab": {
          "base_uri": "https://localhost:8080/",
          "height": 298
        },
        "id": "xHcBKLU29qDS",
        "outputId": "cb69e6ad-4ec5-44a3-aaa9-20495b8a63f6"
      },
      "execution_count": null,
      "outputs": [
        {
          "output_type": "execute_result",
          "data": {
            "text/plain": [
              "<Axes: xlabel='Product_Category', ylabel='Purchase'>"
            ]
          },
          "metadata": {},
          "execution_count": 16
        },
        {
          "output_type": "display_data",
          "data": {
            "text/plain": [
              "<Figure size 432x288 with 1 Axes>"
            ],
            "image/png": "[encoded data removed]"
          },
          "metadata": {
            "needs_background": "light"
          }
        }
      ]
    },
    {
      "cell_type": "markdown",
      "source": [
        "\n",
        "*   The frequency of purchasing Product_category 10,7,6,9,15 is more than other product_category.\n",
        "*   Product of category 13,20,19 have less puchase.\n",
        "\n"
      ],
      "metadata": {
        "id": "BZsPq07P7eu2"
      }
    },
    {
      "cell_type": "markdown",
      "source": [
        "##Detect Null values & Outliers (using boxplot, “describe” method by checking the difference between mean and median, isnull etc.)"
      ],
      "metadata": {
        "id": "1iiE8wLa5tA-"
      }
    },
    {
      "cell_type": "code",
      "source": [
        "fig,all_plot=plt.subplots(3,2,figsize=(16,14))\n",
        "## Outliers in Data\n",
        "sns.boxplot(data=df,x='Gender',y='Purchase',ax=all_plot[0,0])\n",
        "sns.boxplot(data=df,x='Marital_Status',y='Purchase',ax=all_plot[0,1])\n",
        "sns.boxplot(data=df,x='Age',y='Purchase',ax=all_plot[1,0])\n",
        "sns.boxplot(data=df,x='City_Category',y='Purchase',ax=all_plot[1,1])\n",
        "sns.boxplot(data=df,x='Stay_In_Current_City_Years',y='Purchase',ax=all_plot[2,0])\n",
        "sns.boxplot(data=df,hue='Gender',x='Age',y='Purchase',ax=all_plot[2,1])\n",
        "plt.show()"
      ],
      "metadata": {
        "colab": {
          "base_uri": "https://localhost:8080/",
          "height": 826
        },
        "id": "B5d-l21HIBp2",
        "outputId": "f4b21364-fec8-47a3-ef37-4c9a79504c47"
      },
      "execution_count": null,
      "outputs": [
        {
          "output_type": "display_data",
          "data": {
            "text/plain": [
              "<Figure size 1152x1008 with 6 Axes>"
            ],
            "image/png": "[encoded data removed]"
          },
          "metadata": {
            "needs_background": "light"
          }
        }
      ]
    },
    {
      "cell_type": "code",
      "source": [
        "plt.figure(figsize=(8,6))\n",
        "sns.boxplot(data=df,hue='Marital_Status',x='Age',y='Purchase')\n",
        "plt.show()"
      ],
      "metadata": {
        "colab": {
          "base_uri": "https://localhost:8080/",
          "height": 390
        },
        "id": "_NVUb4bdUvnD",
        "outputId": "c6e402b8-e976-45d2-8347-215049d09a16"
      },
      "execution_count": null,
      "outputs": [
        {
          "output_type": "display_data",
          "data": {
            "text/plain": [
              "<Figure size 576x432 with 1 Axes>"
            ],
            "image/png": "[encoded data removed]"
          },
          "metadata": {
            "needs_background": "light"
          }
        }
      ]
    },
    {
      "cell_type": "markdown",
      "source": [
        "### Correlation between different variables"
      ],
      "metadata": {
        "id": "EwzViAGxo2vG"
      }
    },
    {
      "cell_type": "code",
      "source": [
        "sns.heatmap(df.corr(), cmap=\"Blues\", annot=True)\n",
        "plt.show()"
      ],
      "metadata": {
        "colab": {
          "base_uri": "https://localhost:8080/",
          "height": 348
        },
        "id": "5HjZuQXro2MQ",
        "outputId": "10b9be3d-811a-4410-e915-3454fb8d5cc7"
      },
      "execution_count": null,
      "outputs": [
        {
          "output_type": "display_data",
          "data": {
            "text/plain": [
              "<Figure size 432x288 with 2 Axes>"
            ],
            "image/png": "[encoded data removed]"
          },
          "metadata": {
            "needs_background": "light"
          }
        }
      ]
    },
    {
      "cell_type": "markdown",
      "source": [
        "### Visualization by using pair-plot"
      ],
      "metadata": {
        "id": "ztwGmDIoq8Y-"
      }
    },
    {
      "cell_type": "code",
      "source": [
        "sns.pairplot(data=df)"
      ],
      "metadata": {
        "colab": {
          "base_uri": "https://localhost:8080/",
          "height": 921
        },
        "id": "XD5onjQ5q78N",
        "outputId": "54930420-6b8c-49bc-f0e1-7e2456dec304"
      },
      "execution_count": null,
      "outputs": [
        {
          "output_type": "execute_result",
          "data": {
            "text/plain": [
              "<seaborn.axisgrid.PairGrid at 0x7f82da8cadf0>"
            ]
          },
          "metadata": {},
          "execution_count": 35
        },
        {
          "output_type": "display_data",
          "data": {
            "text/plain": [
              "<Figure size 900x900 with 30 Axes>"
            ],
            "image/png": "[encoded data removed]"
          },
          "metadata": {
            "needs_background": "light"
          }
        }
      ]
    },
    {
      "cell_type": "markdown",
      "source": [
        "# Purchase By Males And Females"
      ],
      "metadata": {
        "id": "LA5VmuEZU5hb"
      }
    },
    {
      "cell_type": "code",
      "source": [
        "Purchase=df.groupby(['User_ID','Gender'])['Purchase'].sum().reset_index()"
      ],
      "metadata": {
        "id": "psbeN9KiYi3B"
      },
      "execution_count": null,
      "outputs": []
    },
    {
      "cell_type": "code",
      "source": [
        "Purchase"
      ],
      "metadata": {
        "colab": {
          "base_uri": "https://localhost:8080/",
          "height": 423
        },
        "id": "LycF27oTdhE2",
        "outputId": "4c7f7fef-908c-4677-badf-4bb8c5c18d1d"
      },
      "execution_count": null,
      "outputs": [
        {
          "output_type": "execute_result",
          "data": {
            "text/plain": [
              "      User_ID Gender  Purchase\n",
              "0     1000001      F    334093\n",
              "1     1000002      M    810472\n",
              "2     1000003      M    341635\n",
              "3     1000004      M    206468\n",
              "4     1000005      M    821001\n",
              "...       ...    ...       ...\n",
              "5886  1006036      F   4116058\n",
              "5887  1006037      F   1119538\n",
              "5888  1006038      F     90034\n",
              "5889  1006039      F    590319\n",
              "5890  1006040      M   1653299\n",
              "\n",
              "[5891 rows x 3 columns]"
            ],
            "text/html": [
              "\n",
              "  <div id=\"df-d86a3f64-3b1c-4693-9732-39b02c3d0966\">\n",
              "    <div class=\"colab-df-container\">\n",
              "      <div>\n",
              "<style scoped>\n",
              "    .dataframe tbody tr th:only-of-type {\n",
              "        vertical-align: middle;\n",
              "    }\n",
              "\n",
              "    .dataframe tbody tr th {\n",
              "        vertical-align: top;\n",
              "    }\n",
              "\n",
              "    .dataframe thead th {\n",
              "        text-align: right;\n",
              "    }\n",
              "</style>\n",
              "<table border=\"1\" class=\"dataframe\">\n",
              "  <thead>\n",
              "    <tr style=\"text-align: right;\">\n",
              "      <th></th>\n",
              "      <th>User_ID</th>\n",
              "      <th>Gender</th>\n",
              "      <th>Purchase</th>\n",
              "    </tr>\n",
              "  </thead>\n",
              "  <tbody>\n",
              "    <tr>\n",
              "      <th>0</th>\n",
              "      <td>1000001</td>\n",
              "      <td>F</td>\n",
              "      <td>334093</td>\n",
              "    </tr>\n",
              "    <tr>\n",
              "      <th>1</th>\n",
              "      <td>1000002</td>\n",
              "      <td>M</td>\n",
              "      <td>810472</td>\n",
              "    </tr>\n",
              "    <tr>\n",
              "      <th>2</th>\n",
              "      <td>1000003</td>\n",
              "      <td>M</td>\n",
              "      <td>341635</td>\n",
              "    </tr>\n",
              "    <tr>\n",
              "      <th>3</th>\n",
              "      <td>1000004</td>\n",
              "      <td>M</td>\n",
              "      <td>206468</td>\n",
              "    </tr>\n",
              "    <tr>\n",
              "      <th>4</th>\n",
              "      <td>1000005</td>\n",
              "      <td>M</td>\n",
              "      <td>821001</td>\n",
              "    </tr>\n",
              "    <tr>\n",
              "      <th>...</th>\n",
              "      <td>...</td>\n",
              "      <td>...</td>\n",
              "      <td>...</td>\n",
              "    </tr>\n",
              "    <tr>\n",
              "      <th>5886</th>\n",
              "      <td>1006036</td>\n",
              "      <td>F</td>\n",
              "      <td>4116058</td>\n",
              "    </tr>\n",
              "    <tr>\n",
              "      <th>5887</th>\n",
              "      <td>1006037</td>\n",
              "      <td>F</td>\n",
              "      <td>1119538</td>\n",
              "    </tr>\n",
              "    <tr>\n",
              "      <th>5888</th>\n",
              "      <td>1006038</td>\n",
              "      <td>F</td>\n",
              "      <td>90034</td>\n",
              "    </tr>\n",
              "    <tr>\n",
              "      <th>5889</th>\n",
              "      <td>1006039</td>\n",
              "      <td>F</td>\n",
              "      <td>590319</td>\n",
              "    </tr>\n",
              "    <tr>\n",
              "      <th>5890</th>\n",
              "      <td>1006040</td>\n",
              "      <td>M</td>\n",
              "      <td>1653299</td>\n",
              "    </tr>\n",
              "  </tbody>\n",
              "</table>\n",
              "<p>5891 rows × 3 columns</p>\n",
              "</div>\n",
              "      <button class=\"colab-df-convert\" onclick=\"convertToInteractive('df-d86a3f64-3b1c-4693-9732-39b02c3d0966')\"\n",
              "              title=\"Convert this dataframe to an interactive table.\"\n",
              "              style=\"display:none;\">\n",
              "        \n",
              "  <svg xmlns=\"http://www.w3.org/2000/svg\" height=\"24px\"viewBox=\"0 0 24 24\"\n",
              "       width=\"24px\">\n",
              "    <path d=\"M0 0h24v24H0V0z\" fill=\"none\"/>\n",
              "    <path d=\"M18.56 5.44l.94 2.06.94-2.06 2.06-.94-2.06-.94-.94-2.06-.94 2.06-2.06.94zm-11 1L8.5 8.5l.94-2.06 2.06-.94-2.06-.94L8.5 2.5l-.94 2.06-2.06.94zm10 10l.94 2.06.94-2.06 2.06-.94-2.06-.94-.94-2.06-.94 2.06-2.06.94z\"/><path d=\"M17.41 7.96l-1.37-1.37c-.4-.4-.92-.59-1.43-.59-.52 0-1.04.2-1.43.59L10.3 9.45l-7.72 7.72c-.78.78-.78 2.05 0 2.83L4 21.41c.39.39.9.59 1.41.59.51 0 1.02-.2 1.41-.59l7.78-7.78 2.81-2.81c.8-.78.8-2.07 0-2.86zM5.41 20L4 18.59l7.72-7.72 1.47 1.35L5.41 20z\"/>\n",
              "  </svg>\n",
              "      </button>\n",
              "      \n",
              "  <style>\n",
              "    .colab-df-container {\n",
              "      display:flex;\n",
              "      flex-wrap:wrap;\n",
              "      gap: 12px;\n",
              "    }\n",
              "\n",
              "    .colab-df-convert {\n",
              "      background-color: #E8F0FE;\n",
              "      border: none;\n",
              "      border-radius: 50%;\n",
              "      cursor: pointer;\n",
              "      display: none;\n",
              "      fill: #1967D2;\n",
              "      height: 32px;\n",
              "      padding: 0 0 0 0;\n",
              "      width: 32px;\n",
              "    }\n",
              "\n",
              "    .colab-df-convert:hover {\n",
              "      background-color: #E2EBFA;\n",
              "      box-shadow: 0px 1px 2px rgba(60, 64, 67, 0.3), 0px 1px 3px 1px rgba(60, 64, 67, 0.15);\n",
              "      fill: #174EA6;\n",
              "    }\n",
              "\n",
              "    [theme=dark] .colab-df-convert {\n",
              "      background-color: #3B4455;\n",
              "      fill: #D2E3FC;\n",
              "    }\n",
              "\n",
              "    [theme=dark] .colab-df-convert:hover {\n",
              "      background-color: #434B5C;\n",
              "      box-shadow: 0px 1px 3px 1px rgba(0, 0, 0, 0.15);\n",
              "      filter: drop-shadow(0px 1px 2px rgba(0, 0, 0, 0.3));\n",
              "      fill: #FFFFFF;\n",
              "    }\n",
              "  </style>\n",
              "\n",
              "      <script>\n",
              "        const buttonEl =\n",
              "          document.querySelector('#df-d86a3f64-3b1c-4693-9732-39b02c3d0966 button.colab-df-convert');\n",
              "        buttonEl.style.display =\n",
              "          google.colab.kernel.accessAllowed ? 'block' : 'none';\n",
              "\n",
              "        async function convertToInteractive(key) {\n",
              "          const element = document.querySelector('#df-d86a3f64-3b1c-4693-9732-39b02c3d0966');\n",
              "          const dataTable =\n",
              "            await google.colab.kernel.invokeFunction('convertToInteractive',\n",
              "                                                     [key], {});\n",
              "          if (!dataTable) return;\n",
              "\n",
              "          const docLinkHtml = 'Like what you see? Visit the ' +\n",
              "            '<a target=\"_blank\" href=https://colab.research.google.com/notebooks/data_table.ipynb>data table notebook</a>'\n",
              "            + ' to learn more about interactive tables.';\n",
              "          element.innerHTML = '';\n",
              "          dataTable['output_type'] = 'display_data';\n",
              "          await google.colab.output.renderOutput(dataTable, element);\n",
              "          const docLink = document.createElement('div');\n",
              "          docLink.innerHTML = docLinkHtml;\n",
              "          element.appendChild(docLink);\n",
              "        }\n",
              "      </script>\n",
              "    </div>\n",
              "  </div>\n",
              "  "
            ]
          },
          "metadata": {},
          "execution_count": 24
        }
      ]
    },
    {
      "cell_type": "markdown",
      "source": [
        "## Purchase Made by 4225 Males"
      ],
      "metadata": {
        "id": "9Tz418oAgSrK"
      }
    },
    {
      "cell_type": "code",
      "source": [
        "Purchase_by_Males=Purchase[Purchase['Gender']=='M']"
      ],
      "metadata": {
        "id": "xt5vq3Yqdqyo"
      },
      "execution_count": null,
      "outputs": []
    },
    {
      "cell_type": "code",
      "source": [
        "len(Purchase_by_Males)"
      ],
      "metadata": {
        "colab": {
          "base_uri": "https://localhost:8080/"
        },
        "id": "jyFtyMcqgYTB",
        "outputId": "644ad818-a4df-4476-d042-ae8fb8904b81"
      },
      "execution_count": null,
      "outputs": [
        {
          "output_type": "execute_result",
          "data": {
            "text/plain": [
              "4225"
            ]
          },
          "metadata": {},
          "execution_count": 26
        }
      ]
    },
    {
      "cell_type": "code",
      "source": [
        "np.sum(Purchase_by_Males['Purchase'])"
      ],
      "metadata": {
        "colab": {
          "base_uri": "https://localhost:8080/"
        },
        "id": "Jmtv5iL5g2H3",
        "outputId": "a507b747-b433-4460-c4da-881107551a5a"
      },
      "execution_count": null,
      "outputs": [
        {
          "output_type": "execute_result",
          "data": {
            "text/plain": [
              "3909580100"
            ]
          },
          "metadata": {},
          "execution_count": 27
        }
      ]
    },
    {
      "cell_type": "code",
      "source": [
        "Purchase_by_Males.head()"
      ],
      "metadata": {
        "colab": {
          "base_uri": "https://localhost:8080/",
          "height": 206
        },
        "id": "KZlV9wFJeOAI",
        "outputId": "fe9429a7-644b-4ed4-983a-7ae1707a9ce2"
      },
      "execution_count": null,
      "outputs": [
        {
          "output_type": "execute_result",
          "data": {
            "text/plain": [
              "   User_ID Gender  Purchase\n",
              "1  1000002      M    810472\n",
              "2  1000003      M    341635\n",
              "3  1000004      M    206468\n",
              "4  1000005      M    821001\n",
              "6  1000007      M    234668"
            ],
            "text/html": [
              "\n",
              "  <div id=\"df-611c9c18-1fd8-4997-a2d9-6b35f2b86930\">\n",
              "    <div class=\"colab-df-container\">\n",
              "      <div>\n",
              "<style scoped>\n",
              "    .dataframe tbody tr th:only-of-type {\n",
              "        vertical-align: middle;\n",
              "    }\n",
              "\n",
              "    .dataframe tbody tr th {\n",
              "        vertical-align: top;\n",
              "    }\n",
              "\n",
              "    .dataframe thead th {\n",
              "        text-align: right;\n",
              "    }\n",
              "</style>\n",
              "<table border=\"1\" class=\"dataframe\">\n",
              "  <thead>\n",
              "    <tr style=\"text-align: right;\">\n",
              "      <th></th>\n",
              "      <th>User_ID</th>\n",
              "      <th>Gender</th>\n",
              "      <th>Purchase</th>\n",
              "    </tr>\n",
              "  </thead>\n",
              "  <tbody>\n",
              "    <tr>\n",
              "      <th>1</th>\n",
              "      <td>1000002</td>\n",
              "      <td>M</td>\n",
              "      <td>810472</td>\n",
              "    </tr>\n",
              "    <tr>\n",
              "      <th>2</th>\n",
              "      <td>1000003</td>\n",
              "      <td>M</td>\n",
              "      <td>341635</td>\n",
              "    </tr>\n",
              "    <tr>\n",
              "      <th>3</th>\n",
              "      <td>1000004</td>\n",
              "      <td>M</td>\n",
              "      <td>206468</td>\n",
              "    </tr>\n",
              "    <tr>\n",
              "      <th>4</th>\n",
              "      <td>1000005</td>\n",
              "      <td>M</td>\n",
              "      <td>821001</td>\n",
              "    </tr>\n",
              "    <tr>\n",
              "      <th>6</th>\n",
              "      <td>1000007</td>\n",
              "      <td>M</td>\n",
              "      <td>234668</td>\n",
              "    </tr>\n",
              "  </tbody>\n",
              "</table>\n",
              "</div>\n",
              "      <button class=\"colab-df-convert\" onclick=\"convertToInteractive('df-611c9c18-1fd8-4997-a2d9-6b35f2b86930')\"\n",
              "              title=\"Convert this dataframe to an interactive table.\"\n",
              "              style=\"display:none;\">\n",
              "        \n",
              "  <svg xmlns=\"http://www.w3.org/2000/svg\" height=\"24px\"viewBox=\"0 0 24 24\"\n",
              "       width=\"24px\">\n",
              "    <path d=\"M0 0h24v24H0V0z\" fill=\"none\"/>\n",
              "    <path d=\"M18.56 5.44l.94 2.06.94-2.06 2.06-.94-2.06-.94-.94-2.06-.94 2.06-2.06.94zm-11 1L8.5 8.5l.94-2.06 2.06-.94-2.06-.94L8.5 2.5l-.94 2.06-2.06.94zm10 10l.94 2.06.94-2.06 2.06-.94-2.06-.94-.94-2.06-.94 2.06-2.06.94z\"/><path d=\"M17.41 7.96l-1.37-1.37c-.4-.4-.92-.59-1.43-.59-.52 0-1.04.2-1.43.59L10.3 9.45l-7.72 7.72c-.78.78-.78 2.05 0 2.83L4 21.41c.39.39.9.59 1.41.59.51 0 1.02-.2 1.41-.59l7.78-7.78 2.81-2.81c.8-.78.8-2.07 0-2.86zM5.41 20L4 18.59l7.72-7.72 1.47 1.35L5.41 20z\"/>\n",
              "  </svg>\n",
              "      </button>\n",
              "      \n",
              "  <style>\n",
              "    .colab-df-container {\n",
              "      display:flex;\n",
              "      flex-wrap:wrap;\n",
              "      gap: 12px;\n",
              "    }\n",
              "\n",
              "    .colab-df-convert {\n",
              "      background-color: #E8F0FE;\n",
              "      border: none;\n",
              "      border-radius: 50%;\n",
              "      cursor: pointer;\n",
              "      display: none;\n",
              "      fill: #1967D2;\n",
              "      height: 32px;\n",
              "      padding: 0 0 0 0;\n",
              "      width: 32px;\n",
              "    }\n",
              "\n",
              "    .colab-df-convert:hover {\n",
              "      background-color: #E2EBFA;\n",
              "      box-shadow: 0px 1px 2px rgba(60, 64, 67, 0.3), 0px 1px 3px 1px rgba(60, 64, 67, 0.15);\n",
              "      fill: #174EA6;\n",
              "    }\n",
              "\n",
              "    [theme=dark] .colab-df-convert {\n",
              "      background-color: #3B4455;\n",
              "      fill: #D2E3FC;\n",
              "    }\n",
              "\n",
              "    [theme=dark] .colab-df-convert:hover {\n",
              "      background-color: #434B5C;\n",
              "      box-shadow: 0px 1px 3px 1px rgba(0, 0, 0, 0.15);\n",
              "      filter: drop-shadow(0px 1px 2px rgba(0, 0, 0, 0.3));\n",
              "      fill: #FFFFFF;\n",
              "    }\n",
              "  </style>\n",
              "\n",
              "      <script>\n",
              "        const buttonEl =\n",
              "          document.querySelector('#df-611c9c18-1fd8-4997-a2d9-6b35f2b86930 button.colab-df-convert');\n",
              "        buttonEl.style.display =\n",
              "          google.colab.kernel.accessAllowed ? 'block' : 'none';\n",
              "\n",
              "        async function convertToInteractive(key) {\n",
              "          const element = document.querySelector('#df-611c9c18-1fd8-4997-a2d9-6b35f2b86930');\n",
              "          const dataTable =\n",
              "            await google.colab.kernel.invokeFunction('convertToInteractive',\n",
              "                                                     [key], {});\n",
              "          if (!dataTable) return;\n",
              "\n",
              "          const docLinkHtml = 'Like what you see? Visit the ' +\n",
              "            '<a target=\"_blank\" href=https://colab.research.google.com/notebooks/data_table.ipynb>data table notebook</a>'\n",
              "            + ' to learn more about interactive tables.';\n",
              "          element.innerHTML = '';\n",
              "          dataTable['output_type'] = 'display_data';\n",
              "          await google.colab.output.renderOutput(dataTable, element);\n",
              "          const docLink = document.createElement('div');\n",
              "          docLink.innerHTML = docLinkHtml;\n",
              "          element.appendChild(docLink);\n",
              "        }\n",
              "      </script>\n",
              "    </div>\n",
              "  </div>\n",
              "  "
            ]
          },
          "metadata": {},
          "execution_count": 28
        }
      ]
    },
    {
      "cell_type": "markdown",
      "source": [
        "## Purchase By 1666 Female Customers"
      ],
      "metadata": {
        "id": "MXOzc2VhhtY1"
      }
    },
    {
      "cell_type": "code",
      "source": [
        "Purchase_by_Females=Purchase[Purchase['Gender']=='F'].reset_index()"
      ],
      "metadata": {
        "id": "yl72XDIxf_7w"
      },
      "execution_count": null,
      "outputs": []
    },
    {
      "cell_type": "code",
      "source": [
        "## Number of Female Customer\n",
        "len(Purchase_by_Females)"
      ],
      "metadata": {
        "colab": {
          "base_uri": "https://localhost:8080/"
        },
        "id": "E5RhJowlhh2a",
        "outputId": "cfb39c08-7913-41df-ed50-c4dfc5110bc2"
      },
      "execution_count": null,
      "outputs": [
        {
          "output_type": "execute_result",
          "data": {
            "text/plain": [
              "1666"
            ]
          },
          "metadata": {},
          "execution_count": 30
        }
      ]
    },
    {
      "cell_type": "code",
      "source": [
        "## Total Purchase By Female customers\n",
        "np.sum(Purchase_by_Females['Purchase'])"
      ],
      "metadata": {
        "colab": {
          "base_uri": "https://localhost:8080/"
        },
        "id": "cQLI3PaOh3bl",
        "outputId": "5bd1c5bf-922e-4705-e26b-30cc1928e063"
      },
      "execution_count": null,
      "outputs": [
        {
          "output_type": "execute_result",
          "data": {
            "text/plain": [
              "1186232642"
            ]
          },
          "metadata": {},
          "execution_count": 31
        }
      ]
    },
    {
      "cell_type": "code",
      "source": [
        "Purchase_Mar_Status=df.groupby(['User_ID','Marital_Status'])['Purchase'].sum().reset_index()"
      ],
      "metadata": {
        "id": "LenbQkyEiSUm"
      },
      "execution_count": null,
      "outputs": []
    },
    {
      "cell_type": "code",
      "source": [
        "Purchase_by_Females.drop(columns='index',axis=1)"
      ],
      "metadata": {
        "colab": {
          "base_uri": "https://localhost:8080/",
          "height": 423
        },
        "id": "VbU54YftiMsd",
        "outputId": "4c299992-0e5d-45f1-88e0-467dffbf2149"
      },
      "execution_count": null,
      "outputs": [
        {
          "output_type": "execute_result",
          "data": {
            "text/plain": [
              "      User_ID Gender  Purchase\n",
              "0     1000001      F    334093\n",
              "1     1000006      F    379930\n",
              "2     1000010      F   2169510\n",
              "3     1000011      F    557023\n",
              "4     1000016      F    150490\n",
              "...       ...    ...       ...\n",
              "1661  1006035      F    956645\n",
              "1662  1006036      F   4116058\n",
              "1663  1006037      F   1119538\n",
              "1664  1006038      F     90034\n",
              "1665  1006039      F    590319\n",
              "\n",
              "[1666 rows x 3 columns]"
            ],
            "text/html": [
              "\n",
              "  <div id=\"df-9c379344-e665-4f83-b94b-ff3c1b0e0dd8\">\n",
              "    <div class=\"colab-df-container\">\n",
              "      <div>\n",
              "<style scoped>\n",
              "    .dataframe tbody tr th:only-of-type {\n",
              "        vertical-align: middle;\n",
              "    }\n",
              "\n",
              "    .dataframe tbody tr th {\n",
              "        vertical-align: top;\n",
              "    }\n",
              "\n",
              "    .dataframe thead th {\n",
              "        text-align: right;\n",
              "    }\n",
              "</style>\n",
              "<table border=\"1\" class=\"dataframe\">\n",
              "  <thead>\n",
              "    <tr style=\"text-align: right;\">\n",
              "      <th></th>\n",
              "      <th>User_ID</th>\n",
              "      <th>Gender</th>\n",
              "      <th>Purchase</th>\n",
              "    </tr>\n",
              "  </thead>\n",
              "  <tbody>\n",
              "    <tr>\n",
              "      <th>0</th>\n",
              "      <td>1000001</td>\n",
              "      <td>F</td>\n",
              "      <td>334093</td>\n",
              "    </tr>\n",
              "    <tr>\n",
              "      <th>1</th>\n",
              "      <td>1000006</td>\n",
              "      <td>F</td>\n",
              "      <td>379930</td>\n",
              "    </tr>\n",
              "    <tr>\n",
              "      <th>2</th>\n",
              "      <td>1000010</td>\n",
              "      <td>F</td>\n",
              "      <td>2169510</td>\n",
              "    </tr>\n",
              "    <tr>\n",
              "      <th>3</th>\n",
              "      <td>1000011</td>\n",
              "      <td>F</td>\n",
              "      <td>557023</td>\n",
              "    </tr>\n",
              "    <tr>\n",
              "      <th>4</th>\n",
              "      <td>1000016</td>\n",
              "      <td>F</td>\n",
              "      <td>150490</td>\n",
              "    </tr>\n",
              "    <tr>\n",
              "      <th>...</th>\n",
              "      <td>...</td>\n",
              "      <td>...</td>\n",
              "      <td>...</td>\n",
              "    </tr>\n",
              "    <tr>\n",
              "      <th>1661</th>\n",
              "      <td>1006035</td>\n",
              "      <td>F</td>\n",
              "      <td>956645</td>\n",
              "    </tr>\n",
              "    <tr>\n",
              "      <th>1662</th>\n",
              "      <td>1006036</td>\n",
              "      <td>F</td>\n",
              "      <td>4116058</td>\n",
              "    </tr>\n",
              "    <tr>\n",
              "      <th>1663</th>\n",
              "      <td>1006037</td>\n",
              "      <td>F</td>\n",
              "      <td>1119538</td>\n",
              "    </tr>\n",
              "    <tr>\n",
              "      <th>1664</th>\n",
              "      <td>1006038</td>\n",
              "      <td>F</td>\n",
              "      <td>90034</td>\n",
              "    </tr>\n",
              "    <tr>\n",
              "      <th>1665</th>\n",
              "      <td>1006039</td>\n",
              "      <td>F</td>\n",
              "      <td>590319</td>\n",
              "    </tr>\n",
              "  </tbody>\n",
              "</table>\n",
              "<p>1666 rows × 3 columns</p>\n",
              "</div>\n",
              "      <button class=\"colab-df-convert\" onclick=\"convertToInteractive('df-9c379344-e665-4f83-b94b-ff3c1b0e0dd8')\"\n",
              "              title=\"Convert this dataframe to an interactive table.\"\n",
              "              style=\"display:none;\">\n",
              "        \n",
              "  <svg xmlns=\"http://www.w3.org/2000/svg\" height=\"24px\"viewBox=\"0 0 24 24\"\n",
              "       width=\"24px\">\n",
              "    <path d=\"M0 0h24v24H0V0z\" fill=\"none\"/>\n",
              "    <path d=\"M18.56 5.44l.94 2.06.94-2.06 2.06-.94-2.06-.94-.94-2.06-.94 2.06-2.06.94zm-11 1L8.5 8.5l.94-2.06 2.06-.94-2.06-.94L8.5 2.5l-.94 2.06-2.06.94zm10 10l.94 2.06.94-2.06 2.06-.94-2.06-.94-.94-2.06-.94 2.06-2.06.94z\"/><path d=\"M17.41 7.96l-1.37-1.37c-.4-.4-.92-.59-1.43-.59-.52 0-1.04.2-1.43.59L10.3 9.45l-7.72 7.72c-.78.78-.78 2.05 0 2.83L4 21.41c.39.39.9.59 1.41.59.51 0 1.02-.2 1.41-.59l7.78-7.78 2.81-2.81c.8-.78.8-2.07 0-2.86zM5.41 20L4 18.59l7.72-7.72 1.47 1.35L5.41 20z\"/>\n",
              "  </svg>\n",
              "      </button>\n",
              "      \n",
              "  <style>\n",
              "    .colab-df-container {\n",
              "      display:flex;\n",
              "      flex-wrap:wrap;\n",
              "      gap: 12px;\n",
              "    }\n",
              "\n",
              "    .colab-df-convert {\n",
              "      background-color: #E8F0FE;\n",
              "      border: none;\n",
              "      border-radius: 50%;\n",
              "      cursor: pointer;\n",
              "      display: none;\n",
              "      fill: #1967D2;\n",
              "      height: 32px;\n",
              "      padding: 0 0 0 0;\n",
              "      width: 32px;\n",
              "    }\n",
              "\n",
              "    .colab-df-convert:hover {\n",
              "      background-color: #E2EBFA;\n",
              "      box-shadow: 0px 1px 2px rgba(60, 64, 67, 0.3), 0px 1px 3px 1px rgba(60, 64, 67, 0.15);\n",
              "      fill: #174EA6;\n",
              "    }\n",
              "\n",
              "    [theme=dark] .colab-df-convert {\n",
              "      background-color: #3B4455;\n",
              "      fill: #D2E3FC;\n",
              "    }\n",
              "\n",
              "    [theme=dark] .colab-df-convert:hover {\n",
              "      background-color: #434B5C;\n",
              "      box-shadow: 0px 1px 3px 1px rgba(0, 0, 0, 0.15);\n",
              "      filter: drop-shadow(0px 1px 2px rgba(0, 0, 0, 0.3));\n",
              "      fill: #FFFFFF;\n",
              "    }\n",
              "  </style>\n",
              "\n",
              "      <script>\n",
              "        const buttonEl =\n",
              "          document.querySelector('#df-9c379344-e665-4f83-b94b-ff3c1b0e0dd8 button.colab-df-convert');\n",
              "        buttonEl.style.display =\n",
              "          google.colab.kernel.accessAllowed ? 'block' : 'none';\n",
              "\n",
              "        async function convertToInteractive(key) {\n",
              "          const element = document.querySelector('#df-9c379344-e665-4f83-b94b-ff3c1b0e0dd8');\n",
              "          const dataTable =\n",
              "            await google.colab.kernel.invokeFunction('convertToInteractive',\n",
              "                                                     [key], {});\n",
              "          if (!dataTable) return;\n",
              "\n",
              "          const docLinkHtml = 'Like what you see? Visit the ' +\n",
              "            '<a target=\"_blank\" href=https://colab.research.google.com/notebooks/data_table.ipynb>data table notebook</a>'\n",
              "            + ' to learn more about interactive tables.';\n",
              "          element.innerHTML = '';\n",
              "          dataTable['output_type'] = 'display_data';\n",
              "          await google.colab.output.renderOutput(dataTable, element);\n",
              "          const docLink = document.createElement('div');\n",
              "          docLink.innerHTML = docLinkHtml;\n",
              "          element.appendChild(docLink);\n",
              "        }\n",
              "      </script>\n",
              "    </div>\n",
              "  </div>\n",
              "  "
            ]
          },
          "metadata": {},
          "execution_count": 32
        }
      ]
    },
    {
      "cell_type": "code",
      "source": [
        "Purchase_Mar_Status"
      ],
      "metadata": {
        "colab": {
          "base_uri": "https://localhost:8080/",
          "height": 423
        },
        "id": "IWeTzKrdjwc7",
        "outputId": "6279b404-8e25-4b85-b748-0c8355d6ee9a"
      },
      "execution_count": null,
      "outputs": [
        {
          "output_type": "execute_result",
          "data": {
            "text/plain": [
              "      User_ID Marital_Status  Purchase\n",
              "0     1000001         Single    334093\n",
              "1     1000002         Single    810472\n",
              "2     1000003         Single    341635\n",
              "3     1000004        Married    206468\n",
              "4     1000005        Married    821001\n",
              "...       ...            ...       ...\n",
              "5886  1006036        Married   4116058\n",
              "5887  1006037         Single   1119538\n",
              "5888  1006038         Single     90034\n",
              "5889  1006039        Married    590319\n",
              "5890  1006040         Single   1653299\n",
              "\n",
              "[5891 rows x 3 columns]"
            ],
            "text/html": [
              "\n",
              "  <div id=\"df-c191a2e4-0743-4007-a54b-e390e2efb023\">\n",
              "    <div class=\"colab-df-container\">\n",
              "      <div>\n",
              "<style scoped>\n",
              "    .dataframe tbody tr th:only-of-type {\n",
              "        vertical-align: middle;\n",
              "    }\n",
              "\n",
              "    .dataframe tbody tr th {\n",
              "        vertical-align: top;\n",
              "    }\n",
              "\n",
              "    .dataframe thead th {\n",
              "        text-align: right;\n",
              "    }\n",
              "</style>\n",
              "<table border=\"1\" class=\"dataframe\">\n",
              "  <thead>\n",
              "    <tr style=\"text-align: right;\">\n",
              "      <th></th>\n",
              "      <th>User_ID</th>\n",
              "      <th>Marital_Status</th>\n",
              "      <th>Purchase</th>\n",
              "    </tr>\n",
              "  </thead>\n",
              "  <tbody>\n",
              "    <tr>\n",
              "      <th>0</th>\n",
              "      <td>1000001</td>\n",
              "      <td>Single</td>\n",
              "      <td>334093</td>\n",
              "    </tr>\n",
              "    <tr>\n",
              "      <th>1</th>\n",
              "      <td>1000002</td>\n",
              "      <td>Single</td>\n",
              "      <td>810472</td>\n",
              "    </tr>\n",
              "    <tr>\n",
              "      <th>2</th>\n",
              "      <td>1000003</td>\n",
              "      <td>Single</td>\n",
              "      <td>341635</td>\n",
              "    </tr>\n",
              "    <tr>\n",
              "      <th>3</th>\n",
              "      <td>1000004</td>\n",
              "      <td>Married</td>\n",
              "      <td>206468</td>\n",
              "    </tr>\n",
              "    <tr>\n",
              "      <th>4</th>\n",
              "      <td>1000005</td>\n",
              "      <td>Married</td>\n",
              "      <td>821001</td>\n",
              "    </tr>\n",
              "    <tr>\n",
              "      <th>...</th>\n",
              "      <td>...</td>\n",
              "      <td>...</td>\n",
              "      <td>...</td>\n",
              "    </tr>\n",
              "    <tr>\n",
              "      <th>5886</th>\n",
              "      <td>1006036</td>\n",
              "      <td>Married</td>\n",
              "      <td>4116058</td>\n",
              "    </tr>\n",
              "    <tr>\n",
              "      <th>5887</th>\n",
              "      <td>1006037</td>\n",
              "      <td>Single</td>\n",
              "      <td>1119538</td>\n",
              "    </tr>\n",
              "    <tr>\n",
              "      <th>5888</th>\n",
              "      <td>1006038</td>\n",
              "      <td>Single</td>\n",
              "      <td>90034</td>\n",
              "    </tr>\n",
              "    <tr>\n",
              "      <th>5889</th>\n",
              "      <td>1006039</td>\n",
              "      <td>Married</td>\n",
              "      <td>590319</td>\n",
              "    </tr>\n",
              "    <tr>\n",
              "      <th>5890</th>\n",
              "      <td>1006040</td>\n",
              "      <td>Single</td>\n",
              "      <td>1653299</td>\n",
              "    </tr>\n",
              "  </tbody>\n",
              "</table>\n",
              "<p>5891 rows × 3 columns</p>\n",
              "</div>\n",
              "      <button class=\"colab-df-convert\" onclick=\"convertToInteractive('df-c191a2e4-0743-4007-a54b-e390e2efb023')\"\n",
              "              title=\"Convert this dataframe to an interactive table.\"\n",
              "              style=\"display:none;\">\n",
              "        \n",
              "  <svg xmlns=\"http://www.w3.org/2000/svg\" height=\"24px\"viewBox=\"0 0 24 24\"\n",
              "       width=\"24px\">\n",
              "    <path d=\"M0 0h24v24H0V0z\" fill=\"none\"/>\n",
              "    <path d=\"M18.56 5.44l.94 2.06.94-2.06 2.06-.94-2.06-.94-.94-2.06-.94 2.06-2.06.94zm-11 1L8.5 8.5l.94-2.06 2.06-.94-2.06-.94L8.5 2.5l-.94 2.06-2.06.94zm10 10l.94 2.06.94-2.06 2.06-.94-2.06-.94-.94-2.06-.94 2.06-2.06.94z\"/><path d=\"M17.41 7.96l-1.37-1.37c-.4-.4-.92-.59-1.43-.59-.52 0-1.04.2-1.43.59L10.3 9.45l-7.72 7.72c-.78.78-.78 2.05 0 2.83L4 21.41c.39.39.9.59 1.41.59.51 0 1.02-.2 1.41-.59l7.78-7.78 2.81-2.81c.8-.78.8-2.07 0-2.86zM5.41 20L4 18.59l7.72-7.72 1.47 1.35L5.41 20z\"/>\n",
              "  </svg>\n",
              "      </button>\n",
              "      \n",
              "  <style>\n",
              "    .colab-df-container {\n",
              "      display:flex;\n",
              "      flex-wrap:wrap;\n",
              "      gap: 12px;\n",
              "    }\n",
              "\n",
              "    .colab-df-convert {\n",
              "      background-color: #E8F0FE;\n",
              "      border: none;\n",
              "      border-radius: 50%;\n",
              "      cursor: pointer;\n",
              "      display: none;\n",
              "      fill: #1967D2;\n",
              "      height: 32px;\n",
              "      padding: 0 0 0 0;\n",
              "      width: 32px;\n",
              "    }\n",
              "\n",
              "    .colab-df-convert:hover {\n",
              "      background-color: #E2EBFA;\n",
              "      box-shadow: 0px 1px 2px rgba(60, 64, 67, 0.3), 0px 1px 3px 1px rgba(60, 64, 67, 0.15);\n",
              "      fill: #174EA6;\n",
              "    }\n",
              "\n",
              "    [theme=dark] .colab-df-convert {\n",
              "      background-color: #3B4455;\n",
              "      fill: #D2E3FC;\n",
              "    }\n",
              "\n",
              "    [theme=dark] .colab-df-convert:hover {\n",
              "      background-color: #434B5C;\n",
              "      box-shadow: 0px 1px 3px 1px rgba(0, 0, 0, 0.15);\n",
              "      filter: drop-shadow(0px 1px 2px rgba(0, 0, 0, 0.3));\n",
              "      fill: #FFFFFF;\n",
              "    }\n",
              "  </style>\n",
              "\n",
              "      <script>\n",
              "        const buttonEl =\n",
              "          document.querySelector('#df-c191a2e4-0743-4007-a54b-e390e2efb023 button.colab-df-convert');\n",
              "        buttonEl.style.display =\n",
              "          google.colab.kernel.accessAllowed ? 'block' : 'none';\n",
              "\n",
              "        async function convertToInteractive(key) {\n",
              "          const element = document.querySelector('#df-c191a2e4-0743-4007-a54b-e390e2efb023');\n",
              "          const dataTable =\n",
              "            await google.colab.kernel.invokeFunction('convertToInteractive',\n",
              "                                                     [key], {});\n",
              "          if (!dataTable) return;\n",
              "\n",
              "          const docLinkHtml = 'Like what you see? Visit the ' +\n",
              "            '<a target=\"_blank\" href=https://colab.research.google.com/notebooks/data_table.ipynb>data table notebook</a>'\n",
              "            + ' to learn more about interactive tables.';\n",
              "          element.innerHTML = '';\n",
              "          dataTable['output_type'] = 'display_data';\n",
              "          await google.colab.output.renderOutput(dataTable, element);\n",
              "          const docLink = document.createElement('div');\n",
              "          docLink.innerHTML = docLinkHtml;\n",
              "          element.appendChild(docLink);\n",
              "        }\n",
              "      </script>\n",
              "    </div>\n",
              "  </div>\n",
              "  "
            ]
          },
          "metadata": {},
          "execution_count": 35
        }
      ]
    },
    {
      "cell_type": "markdown",
      "source": [
        "## Purchase Made By Single's"
      ],
      "metadata": {
        "id": "KX8g19Qjj4De"
      }
    },
    {
      "cell_type": "code",
      "source": [
        "Purchase_By_Single=Purchase_Mar_Status[Purchase_Mar_Status['Marital_Status']=='Single']"
      ],
      "metadata": {
        "id": "swB8KYVCj3C-"
      },
      "execution_count": null,
      "outputs": []
    },
    {
      "cell_type": "code",
      "source": [
        "len(Purchase_By_Single)"
      ],
      "metadata": {
        "colab": {
          "base_uri": "https://localhost:8080/"
        },
        "id": "nC624kXLkUuR",
        "outputId": "7ce58686-4287-4467-a5b3-3bce0bbc545f"
      },
      "execution_count": null,
      "outputs": [
        {
          "output_type": "execute_result",
          "data": {
            "text/plain": [
              "3417"
            ]
          },
          "metadata": {},
          "execution_count": 37
        }
      ]
    },
    {
      "cell_type": "code",
      "source": [
        "np.sum(Purchase_By_Single['Purchase'])"
      ],
      "metadata": {
        "colab": {
          "base_uri": "https://localhost:8080/"
        },
        "id": "vGCiA-XFkcMc",
        "outputId": "bb32d3cc-40f3-4504-8e33-7f181e4328cf"
      },
      "execution_count": null,
      "outputs": [
        {
          "output_type": "execute_result",
          "data": {
            "text/plain": [
              "3008927447"
            ]
          },
          "metadata": {},
          "execution_count": 38
        }
      ]
    },
    {
      "cell_type": "markdown",
      "source": [
        "## Purchase Made By Couples"
      ],
      "metadata": {
        "id": "Fr3c-tAmkoJL"
      }
    },
    {
      "cell_type": "code",
      "source": [
        "Purchase_By_Couples=Purchase_Mar_Status[Purchase_Mar_Status['Marital_Status']=='Married']"
      ],
      "metadata": {
        "id": "j4c-PkPyksjj"
      },
      "execution_count": null,
      "outputs": []
    },
    {
      "cell_type": "code",
      "source": [
        "len(Purchase_By_Couples)"
      ],
      "metadata": {
        "colab": {
          "base_uri": "https://localhost:8080/"
        },
        "id": "RICHLk54lFoG",
        "outputId": "dc9d688a-a460-474e-e52b-b4570902fbcb"
      },
      "execution_count": null,
      "outputs": [
        {
          "output_type": "execute_result",
          "data": {
            "text/plain": [
              "2474"
            ]
          },
          "metadata": {},
          "execution_count": 40
        }
      ]
    },
    {
      "cell_type": "code",
      "source": [
        "np.sum(Purchase_By_Couples['Purchase'])"
      ],
      "metadata": {
        "colab": {
          "base_uri": "https://localhost:8080/"
        },
        "id": "ARNMqmBwlJZC",
        "outputId": "1fb20bff-dba1-49ce-834c-4a8630d0c204"
      },
      "execution_count": null,
      "outputs": [
        {
          "output_type": "execute_result",
          "data": {
            "text/plain": [
              "2086885295"
            ]
          },
          "metadata": {},
          "execution_count": 41
        }
      ]
    },
    {
      "cell_type": "markdown",
      "source": [
        "### Purchase made by  Male Customers more than Female Customers\n",
        "*   Total Purchase made by 4225 Males is 3,909,580,100.\n",
        "*   Total Purchase made by 1666 Females is 1,186,232,642.\n",
        "### Purchase made by Couples is more than single Customers.\n",
        "*   Total Purchase made by 3417 Singles is 3,008,927,447.\n",
        "*   Total Purchase made by 2474 Couples is 2,086,885,295.\n",
        "\n"
      ],
      "metadata": {
        "id": "G3oc6VO1iTHH"
      }
    },
    {
      "cell_type": "markdown",
      "source": [
        "# Central Limit Theorem"
      ],
      "metadata": {
        "id": "Ft8dmZZCxF9d"
      }
    },
    {
      "cell_type": "markdown",
      "source": [
        "###Use the Central limit theorem to compute the interval. Change the sample size to observe the distribution of the mean of the expenses by female and male customers."
      ],
      "metadata": {
        "id": "vo9ouAe9czz7"
      }
    },
    {
      "cell_type": "markdown",
      "source": [
        "#### CLT Analysis Based on Gender with confidence 90%,95% and 99%."
      ],
      "metadata": {
        "id": "2qT9IeLbdOzy"
      }
    },
    {
      "cell_type": "code",
      "source": [
        "male_purchase=df[df['Gender']=='M'].reset_index()\n"
      ],
      "metadata": {
        "id": "VwrCLHKWeQcz"
      },
      "execution_count": null,
      "outputs": []
    },
    {
      "cell_type": "code",
      "source": [
        "male_purchase.head()"
      ],
      "metadata": {
        "colab": {
          "base_uri": "https://localhost:8080/",
          "height": 206
        },
        "id": "AMHOnA3K6rIZ",
        "outputId": "f30fece7-4c56-4d7c-a66d-a7d771fd3d2d"
      },
      "execution_count": null,
      "outputs": [
        {
          "output_type": "execute_result",
          "data": {
            "text/plain": [
              "   index  User_ID Product_ID Gender    Age  Occupation City_Category  \\\n",
              "0      4  1000002  P00285442      M    55+          16             C   \n",
              "1      5  1000003  P00193542      M  26-35          15             A   \n",
              "2      6  1000004  P00184942      M  46-50           7             B   \n",
              "3      7  1000004  P00346142      M  46-50           7             B   \n",
              "4      8  1000004   P0097242      M  46-50           7             B   \n",
              "\n",
              "  Stay_In_Current_City_Years Marital_Status  Product_Category  Purchase  \n",
              "0                         4+         Single                 8      7969  \n",
              "1                          3         Single                 1     15227  \n",
              "2                          2        Married                 1     19215  \n",
              "3                          2        Married                 1     15854  \n",
              "4                          2        Married                 1     15686  "
            ],
            "text/html": [
              "\n",
              "  <div id=\"df-96614dbc-c48b-4b3a-99f7-3786fc993e69\">\n",
              "    <div class=\"colab-df-container\">\n",
              "      <div>\n",
              "<style scoped>\n",
              "    .dataframe tbody tr th:only-of-type {\n",
              "        vertical-align: middle;\n",
              "    }\n",
              "\n",
              "    .dataframe tbody tr th {\n",
              "        vertical-align: top;\n",
              "    }\n",
              "\n",
              "    .dataframe thead th {\n",
              "        text-align: right;\n",
              "    }\n",
              "</style>\n",
              "<table border=\"1\" class=\"dataframe\">\n",
              "  <thead>\n",
              "    <tr style=\"text-align: right;\">\n",
              "      <th></th>\n",
              "      <th>index</th>\n",
              "      <th>User_ID</th>\n",
              "      <th>Product_ID</th>\n",
              "      <th>Gender</th>\n",
              "      <th>Age</th>\n",
              "      <th>Occupation</th>\n",
              "      <th>City_Category</th>\n",
              "      <th>Stay_In_Current_City_Years</th>\n",
              "      <th>Marital_Status</th>\n",
              "      <th>Product_Category</th>\n",
              "      <th>Purchase</th>\n",
              "    </tr>\n",
              "  </thead>\n",
              "  <tbody>\n",
              "    <tr>\n",
              "      <th>0</th>\n",
              "      <td>4</td>\n",
              "      <td>1000002</td>\n",
              "      <td>P00285442</td>\n",
              "      <td>M</td>\n",
              "      <td>55+</td>\n",
              "      <td>16</td>\n",
              "      <td>C</td>\n",
              "      <td>4+</td>\n",
              "      <td>Single</td>\n",
              "      <td>8</td>\n",
              "      <td>7969</td>\n",
              "    </tr>\n",
              "    <tr>\n",
              "      <th>1</th>\n",
              "      <td>5</td>\n",
              "      <td>1000003</td>\n",
              "      <td>P00193542</td>\n",
              "      <td>M</td>\n",
              "      <td>26-35</td>\n",
              "      <td>15</td>\n",
              "      <td>A</td>\n",
              "      <td>3</td>\n",
              "      <td>Single</td>\n",
              "      <td>1</td>\n",
              "      <td>15227</td>\n",
              "    </tr>\n",
              "    <tr>\n",
              "      <th>2</th>\n",
              "      <td>6</td>\n",
              "      <td>1000004</td>\n",
              "      <td>P00184942</td>\n",
              "      <td>M</td>\n",
              "      <td>46-50</td>\n",
              "      <td>7</td>\n",
              "      <td>B</td>\n",
              "      <td>2</td>\n",
              "      <td>Married</td>\n",
              "      <td>1</td>\n",
              "      <td>19215</td>\n",
              "    </tr>\n",
              "    <tr>\n",
              "      <th>3</th>\n",
              "      <td>7</td>\n",
              "      <td>1000004</td>\n",
              "      <td>P00346142</td>\n",
              "      <td>M</td>\n",
              "      <td>46-50</td>\n",
              "      <td>7</td>\n",
              "      <td>B</td>\n",
              "      <td>2</td>\n",
              "      <td>Married</td>\n",
              "      <td>1</td>\n",
              "      <td>15854</td>\n",
              "    </tr>\n",
              "    <tr>\n",
              "      <th>4</th>\n",
              "      <td>8</td>\n",
              "      <td>1000004</td>\n",
              "      <td>P0097242</td>\n",
              "      <td>M</td>\n",
              "      <td>46-50</td>\n",
              "      <td>7</td>\n",
              "      <td>B</td>\n",
              "      <td>2</td>\n",
              "      <td>Married</td>\n",
              "      <td>1</td>\n",
              "      <td>15686</td>\n",
              "    </tr>\n",
              "  </tbody>\n",
              "</table>\n",
              "</div>\n",
              "      <button class=\"colab-df-convert\" onclick=\"convertToInteractive('df-96614dbc-c48b-4b3a-99f7-3786fc993e69')\"\n",
              "              title=\"Convert this dataframe to an interactive table.\"\n",
              "              style=\"display:none;\">\n",
              "        \n",
              "  <svg xmlns=\"http://www.w3.org/2000/svg\" height=\"24px\"viewBox=\"0 0 24 24\"\n",
              "       width=\"24px\">\n",
              "    <path d=\"M0 0h24v24H0V0z\" fill=\"none\"/>\n",
              "    <path d=\"M18.56 5.44l.94 2.06.94-2.06 2.06-.94-2.06-.94-.94-2.06-.94 2.06-2.06.94zm-11 1L8.5 8.5l.94-2.06 2.06-.94-2.06-.94L8.5 2.5l-.94 2.06-2.06.94zm10 10l.94 2.06.94-2.06 2.06-.94-2.06-.94-.94-2.06-.94 2.06-2.06.94z\"/><path d=\"M17.41 7.96l-1.37-1.37c-.4-.4-.92-.59-1.43-.59-.52 0-1.04.2-1.43.59L10.3 9.45l-7.72 7.72c-.78.78-.78 2.05 0 2.83L4 21.41c.39.39.9.59 1.41.59.51 0 1.02-.2 1.41-.59l7.78-7.78 2.81-2.81c.8-.78.8-2.07 0-2.86zM5.41 20L4 18.59l7.72-7.72 1.47 1.35L5.41 20z\"/>\n",
              "  </svg>\n",
              "      </button>\n",
              "      \n",
              "  <style>\n",
              "    .colab-df-container {\n",
              "      display:flex;\n",
              "      flex-wrap:wrap;\n",
              "      gap: 12px;\n",
              "    }\n",
              "\n",
              "    .colab-df-convert {\n",
              "      background-color: #E8F0FE;\n",
              "      border: none;\n",
              "      border-radius: 50%;\n",
              "      cursor: pointer;\n",
              "      display: none;\n",
              "      fill: #1967D2;\n",
              "      height: 32px;\n",
              "      padding: 0 0 0 0;\n",
              "      width: 32px;\n",
              "    }\n",
              "\n",
              "    .colab-df-convert:hover {\n",
              "      background-color: #E2EBFA;\n",
              "      box-shadow: 0px 1px 2px rgba(60, 64, 67, 0.3), 0px 1px 3px 1px rgba(60, 64, 67, 0.15);\n",
              "      fill: #174EA6;\n",
              "    }\n",
              "\n",
              "    [theme=dark] .colab-df-convert {\n",
              "      background-color: #3B4455;\n",
              "      fill: #D2E3FC;\n",
              "    }\n",
              "\n",
              "    [theme=dark] .colab-df-convert:hover {\n",
              "      background-color: #434B5C;\n",
              "      box-shadow: 0px 1px 3px 1px rgba(0, 0, 0, 0.15);\n",
              "      filter: drop-shadow(0px 1px 2px rgba(0, 0, 0, 0.3));\n",
              "      fill: #FFFFFF;\n",
              "    }\n",
              "  </style>\n",
              "\n",
              "      <script>\n",
              "        const buttonEl =\n",
              "          document.querySelector('#df-96614dbc-c48b-4b3a-99f7-3786fc993e69 button.colab-df-convert');\n",
              "        buttonEl.style.display =\n",
              "          google.colab.kernel.accessAllowed ? 'block' : 'none';\n",
              "\n",
              "        async function convertToInteractive(key) {\n",
              "          const element = document.querySelector('#df-96614dbc-c48b-4b3a-99f7-3786fc993e69');\n",
              "          const dataTable =\n",
              "            await google.colab.kernel.invokeFunction('convertToInteractive',\n",
              "                                                     [key], {});\n",
              "          if (!dataTable) return;\n",
              "\n",
              "          const docLinkHtml = 'Like what you see? Visit the ' +\n",
              "            '<a target=\"_blank\" href=https://colab.research.google.com/notebooks/data_table.ipynb>data table notebook</a>'\n",
              "            + ' to learn more about interactive tables.';\n",
              "          element.innerHTML = '';\n",
              "          dataTable['output_type'] = 'display_data';\n",
              "          await google.colab.output.renderOutput(dataTable, element);\n",
              "          const docLink = document.createElement('div');\n",
              "          docLink.innerHTML = docLinkHtml;\n",
              "          element.appendChild(docLink);\n",
              "        }\n",
              "      </script>\n",
              "    </div>\n",
              "  </div>\n",
              "  "
            ]
          },
          "metadata": {},
          "execution_count": 47
        }
      ]
    },
    {
      "cell_type": "code",
      "source": [
        "male_purchase_sample_trend=[]\n",
        "for i in range(100):\n",
        "  for num_samples in range(5,500):\n",
        "    sample=male_purchase['Purchase'].sample(num_samples,replace=True)\n",
        "    sample_mean=np.mean(sample)\n",
        "    male_purchase_sample_trend.append(sample_mean)\n",
        "  plt.plot(male_purchase_sample_trend)\n",
        "  male_purchase_sample_trend=[]\n",
        "male_purchase_sample_trend\n",
        "plt.xlabel('num_sample')\n",
        "plt.ylabel('sample_mean')"
      ],
      "metadata": {
        "colab": {
          "base_uri": "https://localhost:8080/",
          "height": 298
        },
        "id": "DfExVCT-W-Dg",
        "outputId": "e9aa0975-8fda-4efb-ed6e-cbbfc0bb3d94"
      },
      "execution_count": null,
      "outputs": [
        {
          "output_type": "execute_result",
          "data": {
            "text/plain": [
              "Text(0, 0.5, 'sample_mean')"
            ]
          },
          "metadata": {},
          "execution_count": 195
        },
        {
          "output_type": "display_data",
          "data": {
            "text/plain": [
              "<Figure size 432x288 with 1 Axes>"
            ],
            "image/png": "[encoded data removed]"
          },
          "metadata": {
            "needs_background": "light"
          }
        }
      ]
    },
    {
      "cell_type": "markdown",
      "source": [
        "### Sample Mean Trend of Males Expenses"
      ],
      "metadata": {
        "id": "kbDNbDe77O1s"
      }
    },
    {
      "cell_type": "code",
      "source": [
        "male_expenses_sample_trend=[]\n",
        "for num_samples in range(5,200):\n",
        "  sample=male_purchase['Purchase'].sample(num_samples,replace=True)\n",
        "  sample_mean=np.mean(sample)\n",
        "  male_expenses_sample_trend.append(sample_mean)\n",
        "plt.plot(male_expenses_sample_trend)\n"
      ],
      "metadata": {
        "colab": {
          "base_uri": "https://localhost:8080/",
          "height": 283
        },
        "id": "9MSVF8Dn7OYo",
        "outputId": "dfd27fe8-25f5-41ce-aa48-1c0fa4d980c7"
      },
      "execution_count": null,
      "outputs": [
        {
          "output_type": "execute_result",
          "data": {
            "text/plain": [
              "[<matplotlib.lines.Line2D at 0x7f33decc8e50>]"
            ]
          },
          "metadata": {},
          "execution_count": 50
        },
        {
          "output_type": "display_data",
          "data": {
            "text/plain": [
              "<Figure size 432x288 with 1 Axes>"
            ],
            "image/png": "[encoded data removed]"
          },
          "metadata": {
            "needs_background": "light"
          }
        }
      ]
    },
    {
      "cell_type": "markdown",
      "source": [
        "### Confidence Interval"
      ],
      "metadata": {
        "id": "j9l5Y7LF06Me"
      }
    },
    {
      "cell_type": "code",
      "source": [
        "male_expenses_sample_trend=[]\n",
        "for num_samples in range(5,500):\n",
        "  sample=male_purchase['Purchase'].sample(num_samples,replace=True)\n",
        "  sample_mean=np.mean(sample)\n",
        "  male_expenses_sample_trend.append(sample_mean)\n",
        "sns.histplot(male_expenses_sample_trend)"
      ],
      "metadata": {
        "colab": {
          "base_uri": "https://localhost:8080/",
          "height": 283
        },
        "id": "-hmzOZSC05do",
        "outputId": "592c06d3-5272-46a8-e5b9-bac9ba9dec4c"
      },
      "execution_count": null,
      "outputs": [
        {
          "output_type": "execute_result",
          "data": {
            "text/plain": [
              "<Axes: ylabel='Count'>"
            ]
          },
          "metadata": {},
          "execution_count": 202
        },
        {
          "output_type": "display_data",
          "data": {
            "text/plain": [
              "<Figure size 432x288 with 1 Axes>"
            ],
            "image/png": "[encoded data removed]"
          },
          "metadata": {
            "needs_background": "light"
          }
        }
      ]
    },
    {
      "cell_type": "markdown",
      "source": [
        "### Calculatinng Male Purchase with 99% confidence with different samples."
      ],
      "metadata": {
        "id": "MfCcskaec7B1"
      }
    },
    {
      "cell_type": "code",
      "source": [
        "no_of_samples=[10,50,250,500,750,1000]\n",
        "for sample_size in no_of_samples:\n",
        "  male_sample_mean_trend=[]\n",
        "  sample = male_purchase[\"Purchase\"].sample(sample_size, replace=True)\n",
        "  male_sample_mean = np.mean(sample)\n",
        "  male_sample_mean_trend.append(male_sample_mean)\n",
        "  final_mean=np.mean(male_sample_mean_trend)\n",
        "  error_clt = (2.33*male_purchase['Purchase'].std())/np.sqrt(sample_size)\n",
        "  lower_limit = final_mean - error_clt\n",
        "  upper_limit = final_mean + error_clt\n",
        "  print(\"confidence interval of {:d} samples: ({:.2f}, {:.2f})\".format(int(sample_size),lower_limit, upper_limit))\n",
        "  print(\"interval range: ({:.2f})\".format(upper_limit-lower_limit))\n",
        "print(\" \")"
      ],
      "metadata": {
        "colab": {
          "base_uri": "https://localhost:8080/"
        },
        "id": "5DcaOydcMiSA",
        "outputId": "88e09b20-b9f8-4b5a-8727-3c965413ef4a"
      },
      "execution_count": null,
      "outputs": [
        {
          "output_type": "stream",
          "name": "stdout",
          "text": [
            "confidence interval of 10 samples: (6757.82, 14261.78)\n",
            "interval range: (7503.95)\n",
            "confidence interval of 50 samples: (6654.40, 10010.28)\n",
            "interval range: (3355.87)\n",
            "confidence interval of 250 samples: (9004.78, 10505.58)\n",
            "interval range: (1500.79)\n",
            "confidence interval of 500 samples: (8849.80, 9911.02)\n",
            "interval range: (1061.22)\n",
            "confidence interval of 750 samples: (8796.95, 9663.43)\n",
            "interval range: (866.48)\n",
            "confidence interval of 1000 samples: (9185.24, 9935.63)\n",
            "interval range: (750.40)\n",
            " \n"
          ]
        }
      ]
    },
    {
      "cell_type": "markdown",
      "source": [
        "### Calculatinng Male Purchase with 95% confidence with different samples."
      ],
      "metadata": {
        "id": "DqYrRwhlT0bP"
      }
    },
    {
      "cell_type": "code",
      "source": [
        "no_of_samples=[50,500,1000]\n",
        "for sample_size in no_of_samples:\n",
        "  male_sample_mean_trend=[]\n",
        "  sample = male_purchase[\"Purchase\"].sample(sample_size, replace=True)\n",
        "  male_sample_mean = np.mean(sample)\n",
        "  male_sample_mean_trend.append(male_sample_mean)\n",
        "  final_mean=np.mean(male_sample_mean_trend)\n",
        "  error_clt = (1.65 * male_purchase['Purchase'].std())/np.sqrt(sample_size)\n",
        "  lower_limit = final_mean - error_clt\n",
        "  upper_limit = final_mean + error_clt\n",
        "  print(\"confidence interval of {:d} samples: ({:.2f}, {:.2f})\".format(int(sample_size),lower_limit, upper_limit))\n",
        "  print(\"interval range: ({:.2f})\".format(upper_limit-lower_limit))\n",
        "print(\" \")"
      ],
      "metadata": {
        "colab": {
          "base_uri": "https://localhost:8080/"
        },
        "id": "clrzP7waTzfZ",
        "outputId": "4ed5333b-9fab-4d65-c9e7-dc05cc8fbacc"
      },
      "execution_count": null,
      "outputs": [
        {
          "output_type": "stream",
          "name": "stdout",
          "text": [
            "confidence interval of 50 samples: (8907.06, 11283.54)\n",
            "interval range: (2376.47)\n",
            "confidence interval of 500 samples: (8961.19, 9712.70)\n",
            "interval range: (751.51)\n",
            "confidence interval of 1000 samples: (9147.74, 9679.13)\n",
            "interval range: (531.40)\n",
            " \n"
          ]
        }
      ]
    },
    {
      "cell_type": "markdown",
      "source": [
        "###Calculatinng Male Purchase with 90% confidence with different samples."
      ],
      "metadata": {
        "id": "oRoUKw0wUVlB"
      }
    },
    {
      "cell_type": "code",
      "source": [
        "no_of_samples=[50,500,1000]\n",
        "for sample_size in no_of_samples:\n",
        "  male_sample_mean_trend=[]\n",
        "  sample = male_purchase[\"Purchase\"].sample(sample_size, replace=True)\n",
        "  male_sample_mean = np.mean(sample)\n",
        "  male_sample_mean_trend.append(male_sample_mean)\n",
        "  final_mean=np.mean(male_sample_mean_trend)\n",
        "  error_clt = (1.28 * male_purchase['Purchase'].std())/np.sqrt(sample_size)\n",
        "  lower_limit = final_mean - error_clt\n",
        "  upper_limit = final_mean + error_clt\n",
        "  print(\"confidence interval of {:d} samples: ({:.2f}, {:.2f})\".format(int(sample_size),lower_limit, upper_limit))\n",
        "  print(\"interval range: ({:.2f})\".format(upper_limit-lower_limit))\n",
        "print(\" \")"
      ],
      "metadata": {
        "colab": {
          "base_uri": "https://localhost:8080/"
        },
        "id": "QZjOhEX6UY9l",
        "outputId": "be012aef-7cf7-4dd8-fc3a-64b5797bc81f"
      },
      "execution_count": null,
      "outputs": [
        {
          "output_type": "stream",
          "name": "stdout",
          "text": [
            "confidence interval of 50 samples: (7914.72, 9758.28)\n",
            "interval range: (1843.57)\n",
            "confidence interval of 500 samples: (9118.24, 9701.23)\n",
            "interval range: (582.99)\n",
            "confidence interval of 1000 samples: (9507.21, 9919.45)\n",
            "interval range: (412.23)\n",
            " \n"
          ]
        }
      ]
    },
    {
      "cell_type": "markdown",
      "source": [
        "###Calculatinng Females Purchase with 99% confidence with different samples.\n"
      ],
      "metadata": {
        "id": "i80_pzFLP5Ka"
      }
    },
    {
      "cell_type": "code",
      "source": [
        "female_purchase=df[df['Gender']=='F'].reset_index()\n"
      ],
      "metadata": {
        "id": "sHjpD-uKQOna"
      },
      "execution_count": null,
      "outputs": []
    },
    {
      "cell_type": "code",
      "source": [
        "female_purchase_sample_trend=[]\n",
        "for i in range(50):\n",
        "  for num_samples in range(5,500):\n",
        "    sample=female_purchase['Purchase'].sample(num_samples,replace=True)\n",
        "    sample_mean=np.mean(sample)\n",
        "    female_purchase_sample_trend.append(sample_mean)\n",
        "  plt.plot(female_purchase_sample_trend)\n",
        "  female_purchase_sample_trend=[]\n",
        "female_purchase_sample_trend\n",
        "plt.xlabel('num_sample')\n",
        "plt.ylabel('sample_mean')"
      ],
      "metadata": {
        "colab": {
          "base_uri": "https://localhost:8080/",
          "height": 298
        },
        "id": "Y5uu5HA-Msqq",
        "outputId": "480e4026-4c04-4e8f-883e-0d3b86a6b790"
      },
      "execution_count": null,
      "outputs": [
        {
          "output_type": "execute_result",
          "data": {
            "text/plain": [
              "Text(0, 0.5, 'sample_mean')"
            ]
          },
          "metadata": {},
          "execution_count": 198
        },
        {
          "output_type": "display_data",
          "data": {
            "text/plain": [
              "<Figure size 432x288 with 1 Axes>"
            ],
            "image/png": "[encoded data removed]"
          },
          "metadata": {
            "needs_background": "light"
          }
        }
      ]
    },
    {
      "cell_type": "markdown",
      "source": [
        "### Sample Mean Trend of Females Expenses"
      ],
      "metadata": {
        "id": "0U8rpQMZRrV2"
      }
    },
    {
      "cell_type": "code",
      "source": [
        "female_expenses_sample_trend=[]\n",
        "for num_samples in range(5,200):\n",
        "  sample=female_purchase['Purchase'].sample(num_samples,replace=True)\n",
        "  sample_mean=np.mean(sample)\n",
        "  female_expenses_sample_trend.append(sample_mean)\n",
        "plt.plot(female_expenses_sample_trend)\n"
      ],
      "metadata": {
        "colab": {
          "base_uri": "https://localhost:8080/",
          "height": 283
        },
        "id": "eR4mcwyhRqhS",
        "outputId": "80649662-3eae-4849-d3c6-578864bf22ed"
      },
      "execution_count": null,
      "outputs": [
        {
          "output_type": "execute_result",
          "data": {
            "text/plain": [
              "[<matplotlib.lines.Line2D at 0x7f33da23efa0>]"
            ]
          },
          "metadata": {},
          "execution_count": 200
        },
        {
          "output_type": "display_data",
          "data": {
            "text/plain": [
              "<Figure size 432x288 with 1 Axes>"
            ],
            "image/png": "[encoded data removed]"
          },
          "metadata": {
            "needs_background": "light"
          }
        }
      ]
    },
    {
      "cell_type": "markdown",
      "source": [
        "### Confidence Interval"
      ],
      "metadata": {
        "id": "FgXM-UY-SWzN"
      }
    },
    {
      "cell_type": "code",
      "source": [
        "female_expenses_sample_trend=[]\n",
        "for num_samples in range(5,500):\n",
        "  sample=female_purchase['Purchase'].sample(num_samples,replace=True)\n",
        "  sample_mean=np.mean(sample)\n",
        "  female_expenses_sample_trend.append(sample_mean)\n",
        "sns.histplot(female_expenses_sample_trend)"
      ],
      "metadata": {
        "colab": {
          "base_uri": "https://localhost:8080/",
          "height": 283
        },
        "id": "y2XyrXwJSVK2",
        "outputId": "04f83816-73f7-4fdd-8123-1a6d17fe6cd4"
      },
      "execution_count": null,
      "outputs": [
        {
          "output_type": "execute_result",
          "data": {
            "text/plain": [
              "<Axes: ylabel='Count'>"
            ]
          },
          "metadata": {},
          "execution_count": 203
        },
        {
          "output_type": "display_data",
          "data": {
            "text/plain": [
              "<Figure size 432x288 with 1 Axes>"
            ],
            "image/png": "[encoded data removed]"
          },
          "metadata": {
            "needs_background": "light"
          }
        }
      ]
    },
    {
      "cell_type": "markdown",
      "source": [
        "### 99 % Confidence for different samples"
      ],
      "metadata": {
        "id": "4bJlMIWjVPoG"
      }
    },
    {
      "cell_type": "code",
      "source": [
        "no_of_samples=[10,50,250,500,750,1000]\n",
        "for sample_size in no_of_samples:\n",
        "  female_sample_mean_trend=[]\n",
        "  sample = male_purchase[\"Purchase\"].sample(sample_size, replace=True)\n",
        "  male_sample_mean = np.mean(sample)\n",
        "  female_sample_mean_trend.append(male_sample_mean)\n",
        "  final_mean=np.mean(female_sample_mean_trend)\n",
        "  error_clt = (2.33*male_purchase['Purchase'].std())/np.sqrt(sample_size)\n",
        "  lower_limit = final_mean - error_clt\n",
        "  upper_limit = final_mean + error_clt\n",
        "  print(\"confidence interval of {:d} samples: ({:.2f}, {:.2f})\".format(int(sample_size),lower_limit, upper_limit))\n",
        "  print(\"interval range: ({:.2f})\".format(upper_limit-lower_limit))\n",
        "print(\" \")"
      ],
      "metadata": {
        "colab": {
          "base_uri": "https://localhost:8080/"
        },
        "id": "mSj_68ARTJom",
        "outputId": "da13f252-c98d-41d3-e342-ca62d1b916a8"
      },
      "execution_count": null,
      "outputs": [
        {
          "output_type": "stream",
          "name": "stdout",
          "text": [
            "confidence interval of 10 samples: (5548.62, 13052.58)\n",
            "interval range: (7503.95)\n",
            "confidence interval of 50 samples: (7270.38, 10626.26)\n",
            "interval range: (3355.87)\n",
            "confidence interval of 250 samples: (8307.31, 9808.10)\n",
            "interval range: (1500.79)\n",
            "confidence interval of 500 samples: (8649.62, 9710.84)\n",
            "interval range: (1061.22)\n",
            "confidence interval of 750 samples: (8977.90, 9844.39)\n",
            "interval range: (866.48)\n",
            "confidence interval of 1000 samples: (9043.71, 9794.11)\n",
            "interval range: (750.40)\n",
            " \n"
          ]
        }
      ]
    },
    {
      "cell_type": "markdown",
      "source": [
        "### 95 % of Confidence"
      ],
      "metadata": {
        "id": "9IQL3n6cVdfM"
      }
    },
    {
      "cell_type": "code",
      "source": [
        "no_of_samples=[50,500,1000]\n",
        "for sample_size in no_of_samples:\n",
        "  female_sample_mean_trend=[]\n",
        "  sample = male_purchase[\"Purchase\"].sample(sample_size, replace=True)\n",
        "  male_sample_mean = np.mean(sample)\n",
        "  female_sample_mean_trend.append(male_sample_mean)\n",
        "  final_mean=np.mean(female_sample_mean_trend)\n",
        "  error_clt = (1.65*male_purchase['Purchase'].std())/np.sqrt(sample_size)\n",
        "  lower_limit = final_mean - error_clt\n",
        "  upper_limit = final_mean + error_clt\n",
        "  print(\"confidence interval of {:d} samples: ({:.2f}, {:.2f})\".format(int(sample_size),lower_limit, upper_limit))\n",
        "  print(\"interval range: ({:.2f})\".format(upper_limit-lower_limit))\n",
        "print(\" \")"
      ],
      "metadata": {
        "colab": {
          "base_uri": "https://localhost:8080/"
        },
        "id": "aVyNzEntVe89",
        "outputId": "39f1b54a-3cbe-42ed-9119-6020d997d9d0"
      },
      "execution_count": null,
      "outputs": [
        {
          "output_type": "stream",
          "name": "stdout",
          "text": [
            "confidence interval of 50 samples: (8639.62, 11016.10)\n",
            "interval range: (2376.47)\n",
            "confidence interval of 500 samples: (9145.69, 9897.20)\n",
            "interval range: (751.51)\n",
            "confidence interval of 1000 samples: (9170.37, 9701.77)\n",
            "interval range: (531.40)\n",
            " \n"
          ]
        }
      ]
    },
    {
      "cell_type": "markdown",
      "source": [
        "### 90% of confidence"
      ],
      "metadata": {
        "id": "7KiQDDsDVxg8"
      }
    },
    {
      "cell_type": "code",
      "source": [
        "no_of_samples=[50,500,1000]\n",
        "for sample_size in no_of_samples:\n",
        "  female_sample_mean_trend=[]\n",
        "  sample = male_purchase[\"Purchase\"].sample(sample_size, replace=True)\n",
        "  male_sample_mean = np.mean(sample)\n",
        "  female_sample_mean_trend.append(male_sample_mean)\n",
        "  final_mean=np.mean(female_sample_mean_trend)\n",
        "  error_clt = (1.28 * male_purchase['Purchase'].std())/np.sqrt(sample_size)\n",
        "  lower_limit = final_mean - error_clt\n",
        "  upper_limit = final_mean + error_clt\n",
        "  print(\"confidence interval of {:d} samples: ({:.2f}, {:.2f})\".format(int(sample_size),lower_limit, upper_limit))\n",
        "  print(\"interval range: ({:.2f})\".format(upper_limit-lower_limit))\n",
        "print(\" \")"
      ],
      "metadata": {
        "colab": {
          "base_uri": "https://localhost:8080/"
        },
        "id": "ShTeqiqnV4X3",
        "outputId": "e14b0cb7-8791-4d02-f4c6-f9584b008522"
      },
      "execution_count": null,
      "outputs": [
        {
          "output_type": "stream",
          "name": "stdout",
          "text": [
            "confidence interval of 50 samples: (8139.66, 9983.22)\n",
            "interval range: (1843.57)\n",
            "confidence interval of 500 samples: (8997.50, 9580.49)\n",
            "interval range: (582.99)\n",
            "confidence interval of 1000 samples: (9169.20, 9581.43)\n",
            "interval range: (412.23)\n",
            " \n"
          ]
        }
      ]
    },
    {
      "cell_type": "markdown",
      "source": [
        "At 99 % --> confidence interval for Male Expenses of 1000 samples: (9185.24, 9935.63)\n",
        "interval range: (750.40)\n",
        "\n",
        "At 99% --> confidence interval for Female Expenses of 1000 samples: (9043.71, 9794.11)\n",
        "interval range: (750.40)\n",
        "\n",
        "At 95% --> confidence interval for Male Expenses of 1000 samples: (9147.74, 9679.13)\n",
        "interval range: (531.40)\n",
        "\n",
        "At 95% --> confidence interval for Female Expenses of 1000 samples: (9170.37, 9701.77)\n",
        "interval range: (531.40)\n",
        "\n",
        "At 90% --> confidence interval for Male Expenses of 1000 samples: (9507.21, 9919.45)\n",
        "interval range: (412.23)\n",
        "\n",
        "At 90% --> confidence interval for Female Expensesof 1000 samples: (9169.20, 9581.43)\n",
        "interval range: (412.23)"
      ],
      "metadata": {
        "id": "6SfhCOhckoVU"
      }
    },
    {
      "cell_type": "markdown",
      "source": [
        "# Simialrly for Married and Un-married Customers"
      ],
      "metadata": {
        "id": "48DFHWiFWDmC"
      }
    },
    {
      "cell_type": "code",
      "source": [
        "single_customers = df[df['Marital_Status']=='Single']\n",
        "married_customers = df[df['Marital_Status']=='Married']"
      ],
      "metadata": {
        "id": "7fpPaNXnW7zU"
      },
      "execution_count": null,
      "outputs": []
    },
    {
      "cell_type": "markdown",
      "source": [
        "### 99% of Confedence"
      ],
      "metadata": {
        "id": "ffd3HDTkXbwC"
      }
    },
    {
      "cell_type": "code",
      "source": [
        "no_of_samples=[1000]\n",
        "for sample_size in no_of_samples:\n",
        "  singles_sample_mean_trend=[]\n",
        "  sample = single_customers[\"Purchase\"].sample(sample_size, replace=True)\n",
        "  singles_sample_mean = np.mean(sample)\n",
        "  singles_sample_mean_trend.append(singles_sample_mean)\n",
        "  final_mean=np.mean(singles_sample_mean_trend)\n",
        "  error_clt = (2.33*single_customers['Purchase'].std())/np.sqrt(sample_size)\n",
        "  lower_limit = final_mean - error_clt\n",
        "  upper_limit = final_mean + error_clt\n",
        "  print(\"confidence interval of {:d} samples: ({:.2f}, {:.2f})\".format(int(sample_size),lower_limit, upper_limit))\n",
        "  print(\"interval range: ({:.2f})\".format(upper_limit-lower_limit))\n",
        "print(\" \")\n",
        "\n",
        "## For Married Customers\n",
        "no_of_samples=[1000]\n",
        "for sample_size in no_of_samples:\n",
        "  married_sample_mean_trend=[]\n",
        "  sample = married_customers[\"Purchase\"].sample(sample_size, replace=True)\n",
        "  married_sample_mean = np.mean(sample)\n",
        "  married_sample_mean_trend.append(married_sample_mean)\n",
        "  final_mean=np.mean(married_sample_mean_trend)\n",
        "  error_clt = (2.33*married_customers['Purchase'].std())/np.sqrt(sample_size)\n",
        "  lower_limit = final_mean - error_clt\n",
        "  upper_limit = final_mean + error_clt\n",
        "  print(\"confidence interval of {:d} samples for married customers: ({:.2f}, {:.2f})\".format(int(sample_size),lower_limit, upper_limit))\n",
        "  print(\"interval range married customers: ({:.2f})\".format(upper_limit-lower_limit))"
      ],
      "metadata": {
        "colab": {
          "base_uri": "https://localhost:8080/"
        },
        "id": "KqBha4SkXaY3",
        "outputId": "a0a6ee44-02a0-4f00-a2ee-0b3ff9825608"
      },
      "execution_count": null,
      "outputs": [
        {
          "output_type": "stream",
          "name": "stdout",
          "text": [
            "confidence interval of 1000 samples: (8865.41, 9606.25)\n",
            "interval range: (740.84)\n",
            " \n",
            "confidence interval of 1000 samples for married customers: (8974.45, 9713.75)\n",
            "interval range married customers: (739.30)\n"
          ]
        }
      ]
    },
    {
      "cell_type": "markdown",
      "source": [
        "### 95 % of Confidence"
      ],
      "metadata": {
        "id": "7VBjaEltf2HP"
      }
    },
    {
      "cell_type": "code",
      "source": [
        "no_of_samples=[1000]\n",
        "for sample_size in no_of_samples:\n",
        "  singles_sample_mean_trend=[]\n",
        "  sample = single_customers[\"Purchase\"].sample(sample_size, replace=True)\n",
        "  singles_sample_mean = np.mean(sample)\n",
        "  singles_sample_mean_trend.append(singles_sample_mean)\n",
        "  final_mean=np.mean(singles_sample_mean_trend)\n",
        "  error_clt = (1.65 * single_customers['Purchase'].std())/np.sqrt(sample_size)\n",
        "  lower_limit = final_mean - error_clt\n",
        "  upper_limit = final_mean + error_clt\n",
        "  print(\"confidence interval of {:d} samples: ({:.2f}, {:.2f})\".format(int(sample_size),lower_limit, upper_limit))\n",
        "  print(\"interval range: ({:.2f})\".format(upper_limit-lower_limit))\n",
        "print(\" \")\n",
        "\n",
        "## For Married Customers\n",
        "no_of_samples=[1000]\n",
        "for sample_size in no_of_samples:\n",
        "  married_sample_mean_trend=[]\n",
        "  sample = married_customers[\"Purchase\"].sample(sample_size, replace=True)\n",
        "  married_sample_mean = np.mean(sample)\n",
        "  married_sample_mean_trend.append(married_sample_mean)\n",
        "  final_mean=np.mean(married_sample_mean_trend)\n",
        "  error_clt = (1.65 * married_customers['Purchase'].std())/np.sqrt(sample_size)\n",
        "  lower_limit = final_mean - error_clt\n",
        "  upper_limit = final_mean + error_clt\n",
        "  print(\"confidence interval of {:d} samples for married customers: ({:.2f}, {:.2f})\".format(int(sample_size),lower_limit, upper_limit))\n",
        "  print(\"interval range married customers: ({:.2f})\".format(upper_limit-lower_limit))\n"
      ],
      "metadata": {
        "colab": {
          "base_uri": "https://localhost:8080/"
        },
        "id": "5wN8UKkCYf3P",
        "outputId": "cadc4256-1d35-41f9-c5bf-7a96a7e633ae"
      },
      "execution_count": null,
      "outputs": [
        {
          "output_type": "stream",
          "name": "stdout",
          "text": [
            "confidence interval of 1000 samples: (8852.37, 9377.00)\n",
            "interval range: (524.63)\n",
            " \n",
            "confidence interval of 1000 samples for married customers: (9007.08, 9530.61)\n",
            "interval range married customers: (523.54)\n"
          ]
        }
      ]
    },
    {
      "cell_type": "markdown",
      "source": [
        "### 90 % of Confidence"
      ],
      "metadata": {
        "id": "s-H-g3bcgSsg"
      }
    },
    {
      "cell_type": "code",
      "source": [
        "no_of_samples=[1000]\n",
        "for sample_size in no_of_samples:\n",
        "  singles_sample_mean_trend=[]\n",
        "  sample = single_customers[\"Purchase\"].sample(sample_size, replace=True)\n",
        "  singles_sample_mean = np.mean(sample)\n",
        "  singles_sample_mean_trend.append(singles_sample_mean)\n",
        "  final_mean=np.mean(singles_sample_mean_trend)\n",
        "  error_ = (1.28 * single_customers['Purchase'].std())/np.sqrt(sample_size)\n",
        "  lower_limit = final_mean - error_\n",
        "  upper_limit = final_mean + error_\n",
        "  print(\"confidence interval of {:d} samples: ({:.2f}, {:.2f})\".format(int(sample_size),lower_limit, upper_limit))\n",
        "  print(\"interval range: ({:.2f})\".format(upper_limit-lower_limit))\n",
        "print(\" \")\n",
        "\n",
        "## For Married Customers\n",
        "no_of_samples=[1000]\n",
        "for sample_size in no_of_samples:\n",
        "  married_sample_mean_trend=[]\n",
        "  sample = married_customers[\"Purchase\"].sample(sample_size, replace=True)\n",
        "  married_sample_mean = np.mean(sample)\n",
        "  married_sample_mean_trend.append(married_sample_mean)\n",
        "  final_mean=np.mean(married_sample_mean_trend)\n",
        "  error_ = (1.28 * married_customers['Purchase'].std())/np.sqrt(sample_size)\n",
        "  lower_limit = final_mean - error_\n",
        "  upper_limit = final_mean + error_\n",
        "  print(\"confidence interval of {:d} samples for married customers: ({:.2f}, {:.2f})\".format(int(sample_size),lower_limit, upper_limit))\n",
        "  print(\"interval range married customers: ({:.2f})\".format(upper_limit-lower_limit))"
      ],
      "metadata": {
        "colab": {
          "base_uri": "https://localhost:8080/"
        },
        "id": "xCL-2zRWgTEf",
        "outputId": "65e54e9d-2c30-471f-9c4f-e3b91870b6d8"
      },
      "execution_count": null,
      "outputs": [
        {
          "output_type": "stream",
          "name": "stdout",
          "text": [
            "confidence interval of 1000 samples: (9072.46, 9479.45)\n",
            "interval range: (406.99)\n",
            " \n",
            "confidence interval of 1000 samples for married customers: (9252.01, 9658.15)\n",
            "interval range married customers: (406.14)\n"
          ]
        }
      ]
    },
    {
      "cell_type": "markdown",
      "source": [
        "At 99 % ---> confidence interval of 1000 samples for married customers: (8974.45, 9713.75)\n",
        "\n",
        "interval range married customers: (739.30)\n",
        "\n",
        "At 95 % ---> confidence interval of 1000 samples for married customers: (9007.08, 9530.61)\n",
        "\n",
        "interval range married customers: (523.54)\n",
        "\n",
        "At 90 % ---> confidence interval of 1000 samples for married customers: (9252.01, 9658.15)\n",
        "\n",
        "interval range married customers: (406.14)"
      ],
      "metadata": {
        "id": "MStNqTlRnOAq"
      }
    },
    {
      "cell_type": "markdown",
      "source": [
        "#Simialrly for different age groups"
      ],
      "metadata": {
        "id": "c9bHF9gWhgkb"
      }
    },
    {
      "cell_type": "code",
      "source": [
        "age_purchase = df.groupby(['User_ID', 'Age'])[['Purchase']].sum()\n",
        "age_purchase = age_purchase.reset_index()\n"
      ],
      "metadata": {
        "id": "Rd2FLDgfhxlJ"
      },
      "execution_count": null,
      "outputs": []
    },
    {
      "cell_type": "markdown",
      "source": [
        "### 99% Confidence"
      ],
      "metadata": {
        "id": "XceU2JRjisrd"
      }
    },
    {
      "cell_type": "code",
      "source": [
        "sample_means = {}         ## Create a dictionary having age as key and value is sample purchase means\n",
        "age_intervals = [ '0-17', '26-35', '36-45', '18-25', '46-50', '51-55', '55+']\n",
        "for ages in age_intervals:\n",
        "  sample_means[ages] = []\n",
        "\n",
        "for ages in age_intervals :\n",
        "  for i in range (200):\n",
        "    mean_ages = df[df['Age']==ages].sample(10, replace=True)['Purchase'].mean()\n",
        "    sample_means[ages].append(mean_ages)\n",
        "\n",
        "for i in ([ '0-17', '26-35', '36-45', '18-25', '46-50', '51-55', '55+']):\n",
        "  age_data = df[df['Age']==i]\n",
        "  error_ = 2.33*df['Purchase'].std()/np.sqrt(1000)\n",
        "  mean_ = np.mean(sample_means[i])\n",
        "  lower_limit = (mean_ - error_)\n",
        "  upper_limit = (mean_ + error_)\n",
        "\n",
        "  print(\"For age_group {} confidence interval: ({:.0f}, {:.0f})\".format(i, lower_limit, upper_limit))"
      ],
      "metadata": {
        "colab": {
          "base_uri": "https://localhost:8080/"
        },
        "id": "cvcuKeOpcEuA",
        "outputId": "434215c8-2b34-4de6-8373-0affced35e0c"
      },
      "execution_count": null,
      "outputs": [
        {
          "output_type": "stream",
          "name": "stdout",
          "text": [
            "For age_group 0-17 confidence interval: (8693, 9433)\n",
            "For age_group 26-35 confidence interval: (8916, 9656)\n",
            "For age_group 36-45 confidence interval: (8950, 9690)\n",
            "For age_group 18-25 confidence interval: (8617, 9357)\n",
            "For age_group 46-50 confidence interval: (9111, 9851)\n",
            "For age_group 51-55 confidence interval: (9267, 10007)\n",
            "For age_group 55+ confidence interval: (8805, 9546)\n"
          ]
        }
      ]
    },
    {
      "cell_type": "markdown",
      "source": [
        "### 95% Confidence"
      ],
      "metadata": {
        "id": "YGtIhTumi7-p"
      }
    },
    {
      "cell_type": "code",
      "source": [
        "sample_means = {}         ## Create a dictionary having age as key and value is sample purchase means\n",
        "age_intervals = [ '0-17', '26-35', '36-45', '18-25', '46-50', '51-55', '55+']\n",
        "for ages in age_intervals:\n",
        "  sample_means[ages] = []\n",
        "\n",
        "for ages in age_intervals :\n",
        "  for i in range (200):\n",
        "    mean_ages = df[df['Age']==ages].sample(10, replace=True)['Purchase'].mean()\n",
        "    sample_means[ages].append(mean_ages)\n",
        "\n",
        "for i in ([ '0-17', '26-35', '36-45', '18-25', '46-50', '51-55', '55+']):\n",
        "  age_data = df[df['Age']==i]\n",
        "  error_ = 1.65*df['Purchase'].std()/np.sqrt(1000)\n",
        "  mean_ = np.mean(sample_means[i])\n",
        "  lower_limit = (mean_ - error_)\n",
        "  upper_limit = (mean_ + error_)\n",
        "\n",
        "  print(\"For age_group {} confidence interval: ({:.0f}, {:.0f})\".format(i, lower_limit, upper_limit))"
      ],
      "metadata": {
        "colab": {
          "base_uri": "https://localhost:8080/"
        },
        "id": "l0I9xDgdjCBP",
        "outputId": "bf508c93-e79a-4996-d90f-cf968e5ec5dc"
      },
      "execution_count": null,
      "outputs": [
        {
          "output_type": "stream",
          "name": "stdout",
          "text": [
            "For age_group 0-17 confidence interval: (8620, 9144)\n",
            "For age_group 26-35 confidence interval: (8995, 9519)\n",
            "For age_group 36-45 confidence interval: (9083, 9607)\n",
            "For age_group 18-25 confidence interval: (8726, 9250)\n",
            "For age_group 46-50 confidence interval: (9029, 9554)\n",
            "For age_group 51-55 confidence interval: (9263, 9787)\n",
            "For age_group 55+ confidence interval: (8958, 9482)\n"
          ]
        }
      ]
    },
    {
      "cell_type": "markdown",
      "source": [
        "### 90% Confidence"
      ],
      "metadata": {
        "id": "AgYh6ZiZjSBO"
      }
    },
    {
      "cell_type": "code",
      "source": [
        "sample_means = {}         ## Create a dictionary having age as key and value is sample purchase means\n",
        "age_intervals = [ '0-17', '26-35', '36-45', '18-25', '46-50', '51-55', '55+']\n",
        "for ages in age_intervals:\n",
        "  sample_means[ages] = []\n",
        "\n",
        "for ages in age_intervals :\n",
        "  for i in range (200):\n",
        "    mean_ages = df[df['Age']==ages].sample(10, replace=True)['Purchase'].mean()\n",
        "    sample_means[ages].append(mean_ages)\n",
        "\n",
        "for i in ([ '0-17', '26-35', '36-45', '18-25', '46-50', '51-55', '55+']):\n",
        "  age_data = df[df['Age']==i]\n",
        "  error_ = 1.28*df['Purchase'].std()/np.sqrt(1000)\n",
        "  mean_ = np.mean(sample_means[i])\n",
        "  lower_limit = (mean_ - error_)\n",
        "  upper_limit = (mean_ + error_)\n",
        "\n",
        "  print(\"For age_group {} confidence interval: ({:.0f}, {:.0f})\".format(i, lower_limit, upper_limit))"
      ],
      "metadata": {
        "colab": {
          "base_uri": "https://localhost:8080/"
        },
        "id": "0-JZPxhvjVfb",
        "outputId": "888b0589-34af-4ed6-8068-9d28200d04bb"
      },
      "execution_count": null,
      "outputs": [
        {
          "output_type": "stream",
          "name": "stdout",
          "text": [
            "For age_group 0-17 confidence interval: (8673, 9080)\n",
            "For age_group 26-35 confidence interval: (8977, 9384)\n",
            "For age_group 36-45 confidence interval: (9158, 9565)\n",
            "For age_group 18-25 confidence interval: (9179, 9586)\n",
            "For age_group 46-50 confidence interval: (9060, 9467)\n",
            "For age_group 51-55 confidence interval: (9362, 9769)\n",
            "For age_group 55+ confidence interval: (9134, 9541)\n"
          ]
        }
      ]
    },
    {
      "cell_type": "markdown",
      "source": [
        "### ***At 99% for different age groups interval range ***\n",
        "  For age_group 0-17 confidence interval: (8693, 9433)\n",
        "\n",
        "  For age_group 26-35 confidence interval: (8916, 9656)\n",
        "\n",
        "  For age_group 36-45 confidence interval: (8950, 9690)\n",
        "\n",
        "  For age_group 18-25 confidence interval: (8617, 9357)\n",
        "\n",
        "  For age_group 46-50 confidence interval: (9111, 9851)\n",
        "\n",
        "  For age_group 51-55 confidence interval: (9267, 10007)\n",
        "\n",
        "  For age_group 55+ confidence interval: (8805, 9546)\n",
        "\n",
        "### ***At 95% for different age groups interval range ***  \n",
        "  For age_group 0-17 confidence interval: (8620, 9144)\n",
        "\n",
        "  For age_group 26-35 confidence interval: (8995, 9519)\n",
        "\n",
        "  For age_group 36-45 confidence interval: (9083, 9607)\n",
        "\n",
        "  For age_group 18-25 confidence interval: (8726, 9250)\n",
        "\n",
        "  For age_group 46-50 confidence interval: (9029, 9554)\n",
        "\n",
        "  For age_group 51-55 confidence interval: (9263, 9787)\n",
        "\n",
        "  For age_group 55+ confidence interval: (8958, 9482)\n",
        "\n",
        "### ***At 90% for different age groups interval range ***\n",
        "  For age_group 0-17 confidence interval: (8673, 9080)\n",
        "\n",
        "  For age_group 26-35 confidence interval: (8977, 9384)\n",
        "\n",
        "  For age_group 36-45 confidence interval: (9158, 9565)\n",
        "\n",
        "  For age_group 18-25 confidence interval: (9179, 9586)\n",
        "\n",
        "  For age_group 46-50 confidence interval: (9060, 9467)\n",
        "\n",
        "  For age_group 51-55 confidence interval: (9362, 9769)\n",
        "  \n",
        "  For age_group 55+ confidence interval: (9134, 9541)"
      ],
      "metadata": {
        "id": "o40B-B0MnyXK"
      }
    },
    {
      "cell_type": "markdown",
      "source": [
        "# Recommondations"
      ],
      "metadata": {
        "id": "zldwbEGTpp_G"
      }
    },
    {
      "cell_type": "markdown",
      "source": [
        "\n",
        "\n",
        "1.   Males are purchasing more than females in order to purchase more by females Wallmart need to focus on campaining and providing offers and discounts to female customer.\n",
        "2.   0-17 Age group have less purchase. Wallmart need to focus on this age group by offering discounts, cashback offers, rewards and gifts.\n",
        "\n",
        "3.   Singles are purchasing more than couples. Wallmart need to focus on how couples purchase more by offering flash sell, promotions, some events for couples.\n",
        "\n",
        "4.   Customers from city category A and B have less purhase. Wallmart need to manage some promotions, events in these cities. Also focus on advertising by newspaper, mass massaging, social media campaining.\n",
        "\n",
        "5.   As there are 9 product category whos purchase is less than 10000. So Wallmart need to take action to improve sell of these product categories by advertising, affiliate marketing and by giving cashback offers,gift vouchers..\n",
        "\n"
      ],
      "metadata": {
        "id": "EWm5Vdy4puhG"
      }
    },
    {
      "cell_type": "markdown",
      "source": [
        "********************************************************************************\n",
        "\n",
        "---\n",
        "\n"
      ],
      "metadata": {
        "id": "UNKqK2TBtSnZ"
      }
    }
  ]
}